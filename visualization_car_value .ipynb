{
 "cells": [
  {
   "cell_type": "code",
   "execution_count": 1,
   "id": "073a4d01",
   "metadata": {},
   "outputs": [
    {
     "name": "stdout",
     "output_type": "stream",
     "text": [
      "Requirement already satisfied: dash in /opt/conda/lib/python3.9/site-packages (2.0.0)\n",
      "Requirement already satisfied: dash-table==5.0.0 in /opt/conda/lib/python3.9/site-packages (from dash) (5.0.0)\n",
      "Requirement already satisfied: plotly>=5.0.0 in /opt/conda/lib/python3.9/site-packages (from dash) (5.1.0)\n",
      "Requirement already satisfied: dash-html-components==2.0.0 in /opt/conda/lib/python3.9/site-packages (from dash) (2.0.0)\n",
      "Requirement already satisfied: Flask>=1.0.4 in /opt/conda/lib/python3.9/site-packages (from dash) (2.0.1)\n",
      "Requirement already satisfied: flask-compress in /opt/conda/lib/python3.9/site-packages (from dash) (1.10.1)\n",
      "Requirement already satisfied: dash-core-components==2.0.0 in /opt/conda/lib/python3.9/site-packages (from dash) (2.0.0)\n",
      "Requirement already satisfied: itsdangerous>=2.0 in /opt/conda/lib/python3.9/site-packages (from Flask>=1.0.4->dash) (2.0.1)\n",
      "Requirement already satisfied: click>=7.1.2 in /opt/conda/lib/python3.9/site-packages (from Flask>=1.0.4->dash) (7.1.2)\n",
      "Requirement already satisfied: Jinja2>=3.0 in /opt/conda/lib/python3.9/site-packages (from Flask>=1.0.4->dash) (3.0.1)\n",
      "Requirement already satisfied: Werkzeug>=2.0 in /opt/conda/lib/python3.9/site-packages (from Flask>=1.0.4->dash) (2.0.1)\n",
      "Requirement already satisfied: MarkupSafe>=2.0 in /opt/conda/lib/python3.9/site-packages (from Jinja2>=3.0->Flask>=1.0.4->dash) (2.0.1)\n",
      "Requirement already satisfied: tenacity>=6.2.0 in /opt/conda/lib/python3.9/site-packages (from plotly>=5.0.0->dash) (8.0.1)\n",
      "Requirement already satisfied: six in /opt/conda/lib/python3.9/site-packages (from plotly>=5.0.0->dash) (1.16.0)\n",
      "Requirement already satisfied: brotli in /opt/conda/lib/python3.9/site-packages (from flask-compress->dash) (1.0.9)\n",
      "Requirement already satisfied: ipython-sql in /opt/conda/lib/python3.9/site-packages (0.4.0)\n",
      "Requirement already satisfied: sqlalchemy>=0.6.7 in /opt/conda/lib/python3.9/site-packages (from ipython-sql) (1.3.9)\n",
      "Requirement already satisfied: ipython-genutils>=0.1.0 in /opt/conda/lib/python3.9/site-packages (from ipython-sql) (0.2.0)\n",
      "Requirement already satisfied: ipython>=1.0 in /opt/conda/lib/python3.9/site-packages (from ipython-sql) (7.23.1)\n",
      "Requirement already satisfied: prettytable<1 in /opt/conda/lib/python3.9/site-packages (from ipython-sql) (0.7.2)\n",
      "Requirement already satisfied: six in /opt/conda/lib/python3.9/site-packages (from ipython-sql) (1.16.0)\n",
      "Requirement already satisfied: sqlparse in /opt/conda/lib/python3.9/site-packages (from ipython-sql) (0.4.1)\n",
      "Requirement already satisfied: backcall in /opt/conda/lib/python3.9/site-packages (from ipython>=1.0->ipython-sql) (0.2.0)\n",
      "Requirement already satisfied: jedi>=0.16 in /opt/conda/lib/python3.9/site-packages (from ipython>=1.0->ipython-sql) (0.18.0)\n",
      "Requirement already satisfied: pygments in /opt/conda/lib/python3.9/site-packages (from ipython>=1.0->ipython-sql) (2.9.0)\n",
      "Requirement already satisfied: pickleshare in /opt/conda/lib/python3.9/site-packages (from ipython>=1.0->ipython-sql) (0.7.5)\n",
      "Requirement already satisfied: prompt-toolkit!=3.0.0,!=3.0.1,<3.1.0,>=2.0.0 in /opt/conda/lib/python3.9/site-packages (from ipython>=1.0->ipython-sql) (3.0.18)\n",
      "Requirement already satisfied: pexpect>4.3 in /opt/conda/lib/python3.9/site-packages (from ipython>=1.0->ipython-sql) (4.8.0)\n",
      "Requirement already satisfied: decorator in /opt/conda/lib/python3.9/site-packages (from ipython>=1.0->ipython-sql) (5.0.9)\n",
      "Requirement already satisfied: matplotlib-inline in /opt/conda/lib/python3.9/site-packages (from ipython>=1.0->ipython-sql) (0.1.2)\n",
      "Requirement already satisfied: setuptools>=18.5 in /opt/conda/lib/python3.9/site-packages (from ipython>=1.0->ipython-sql) (49.6.0.post20210108)\n",
      "Requirement already satisfied: traitlets>=4.2 in /opt/conda/lib/python3.9/site-packages (from ipython>=1.0->ipython-sql) (5.0.5)\n",
      "Requirement already satisfied: parso<0.9.0,>=0.8.0 in /opt/conda/lib/python3.9/site-packages (from jedi>=0.16->ipython>=1.0->ipython-sql) (0.8.2)\n",
      "Requirement already satisfied: ptyprocess>=0.5 in /opt/conda/lib/python3.9/site-packages (from pexpect>4.3->ipython>=1.0->ipython-sql) (0.7.0)\n",
      "Requirement already satisfied: wcwidth in /opt/conda/lib/python3.9/site-packages (from prompt-toolkit!=3.0.0,!=3.0.1,<3.1.0,>=2.0.0->ipython>=1.0->ipython-sql) (0.2.5)\n",
      "Requirement already satisfied: psycopg2-binary in /opt/conda/lib/python3.9/site-packages (2.9.1)\n",
      "Requirement already satisfied: pandas in /opt/conda/lib/python3.9/site-packages (1.2.4)\n",
      "Requirement already satisfied: python-dateutil>=2.7.3 in /opt/conda/lib/python3.9/site-packages (from pandas) (2.8.1)\n",
      "Requirement already satisfied: pytz>=2017.3 in /opt/conda/lib/python3.9/site-packages (from pandas) (2021.1)\n",
      "Requirement already satisfied: numpy>=1.16.5 in /opt/conda/lib/python3.9/site-packages (from pandas) (1.20.3)\n",
      "Requirement already satisfied: six>=1.5 in /opt/conda/lib/python3.9/site-packages (from python-dateutil>=2.7.3->pandas) (1.16.0)\n",
      "Requirement already satisfied: numpy in /opt/conda/lib/python3.9/site-packages (1.20.3)\n",
      "Requirement already satisfied: numpy in /opt/conda/lib/python3.9/site-packages (1.20.3)\n",
      "Requirement already satisfied: matplotlib in /opt/conda/lib/python3.9/site-packages (3.4.2)\n",
      "Requirement already satisfied: cycler>=0.10 in /opt/conda/lib/python3.9/site-packages (from matplotlib) (0.10.0)\n",
      "Requirement already satisfied: kiwisolver>=1.0.1 in /opt/conda/lib/python3.9/site-packages (from matplotlib) (1.3.1)\n",
      "Requirement already satisfied: pillow>=6.2.0 in /opt/conda/lib/python3.9/site-packages (from matplotlib) (8.2.0)\n",
      "Requirement already satisfied: python-dateutil>=2.7 in /opt/conda/lib/python3.9/site-packages (from matplotlib) (2.8.1)\n",
      "Requirement already satisfied: pyparsing>=2.2.1 in /opt/conda/lib/python3.9/site-packages (from matplotlib) (2.4.7)\n",
      "Requirement already satisfied: six in /opt/conda/lib/python3.9/site-packages (from cycler>=0.10->matplotlib) (1.16.0)\n",
      "Requirement already satisfied: folium in /opt/conda/lib/python3.9/site-packages (0.12.1)\n",
      "Requirement already satisfied: requests in /opt/conda/lib/python3.9/site-packages (from folium) (2.25.1)\n",
      "Requirement already satisfied: jinja2>=2.9 in /opt/conda/lib/python3.9/site-packages (from folium) (3.0.1)\n",
      "Requirement already satisfied: branca>=0.3.0 in /opt/conda/lib/python3.9/site-packages (from folium) (0.4.2)\n",
      "Requirement already satisfied: numpy in /opt/conda/lib/python3.9/site-packages (from folium) (1.20.3)\n",
      "Requirement already satisfied: MarkupSafe>=2.0 in /opt/conda/lib/python3.9/site-packages (from jinja2>=2.9->folium) (2.0.1)\n",
      "Requirement already satisfied: certifi>=2017.4.17 in /opt/conda/lib/python3.9/site-packages (from requests->folium) (2020.12.5)\n",
      "Requirement already satisfied: urllib3<1.27,>=1.21.1 in /opt/conda/lib/python3.9/site-packages (from requests->folium) (1.26.4)\n",
      "Requirement already satisfied: chardet<5,>=3.0.2 in /opt/conda/lib/python3.9/site-packages (from requests->folium) (4.0.0)\n",
      "Requirement already satisfied: idna<3,>=2.5 in /opt/conda/lib/python3.9/site-packages (from requests->folium) (2.10)\n",
      "Requirement already satisfied: geojson in /opt/conda/lib/python3.9/site-packages (2.5.0)\n",
      "Requirement already satisfied: jobspy in /opt/conda/lib/python3.9/site-packages (0.28.1)\n",
      "Requirement already satisfied: redis>=3.0.0 in /opt/conda/lib/python3.9/site-packages (from jobspy) (3.5.3)\n",
      "Requirement already satisfied: dash-bootstrap-components in /opt/conda/lib/python3.9/site-packages (0.13.1)\n",
      "Requirement already satisfied: dash>=1.9.0 in /opt/conda/lib/python3.9/site-packages (from dash-bootstrap-components) (2.0.0)\n",
      "Requirement already satisfied: plotly>=5.0.0 in /opt/conda/lib/python3.9/site-packages (from dash>=1.9.0->dash-bootstrap-components) (5.1.0)\n",
      "Requirement already satisfied: dash-table==5.0.0 in /opt/conda/lib/python3.9/site-packages (from dash>=1.9.0->dash-bootstrap-components) (5.0.0)\n",
      "Requirement already satisfied: dash-html-components==2.0.0 in /opt/conda/lib/python3.9/site-packages (from dash>=1.9.0->dash-bootstrap-components) (2.0.0)\n",
      "Requirement already satisfied: Flask>=1.0.4 in /opt/conda/lib/python3.9/site-packages (from dash>=1.9.0->dash-bootstrap-components) (2.0.1)\n",
      "Requirement already satisfied: dash-core-components==2.0.0 in /opt/conda/lib/python3.9/site-packages (from dash>=1.9.0->dash-bootstrap-components) (2.0.0)\n",
      "Requirement already satisfied: flask-compress in /opt/conda/lib/python3.9/site-packages (from dash>=1.9.0->dash-bootstrap-components) (1.10.1)\n",
      "Requirement already satisfied: itsdangerous>=2.0 in /opt/conda/lib/python3.9/site-packages (from Flask>=1.0.4->dash>=1.9.0->dash-bootstrap-components) (2.0.1)\n",
      "Requirement already satisfied: Jinja2>=3.0 in /opt/conda/lib/python3.9/site-packages (from Flask>=1.0.4->dash>=1.9.0->dash-bootstrap-components) (3.0.1)\n",
      "Requirement already satisfied: click>=7.1.2 in /opt/conda/lib/python3.9/site-packages (from Flask>=1.0.4->dash>=1.9.0->dash-bootstrap-components) (7.1.2)\n",
      "Requirement already satisfied: Werkzeug>=2.0 in /opt/conda/lib/python3.9/site-packages (from Flask>=1.0.4->dash>=1.9.0->dash-bootstrap-components) (2.0.1)\n",
      "Requirement already satisfied: MarkupSafe>=2.0 in /opt/conda/lib/python3.9/site-packages (from Jinja2>=3.0->Flask>=1.0.4->dash>=1.9.0->dash-bootstrap-components) (2.0.1)\n",
      "Requirement already satisfied: tenacity>=6.2.0 in /opt/conda/lib/python3.9/site-packages (from plotly>=5.0.0->dash>=1.9.0->dash-bootstrap-components) (8.0.1)\n",
      "Requirement already satisfied: six in /opt/conda/lib/python3.9/site-packages (from plotly>=5.0.0->dash>=1.9.0->dash-bootstrap-components) (1.16.0)\n"
     ]
    },
    {
     "name": "stdout",
     "output_type": "stream",
     "text": [
      "Requirement already satisfied: brotli in /opt/conda/lib/python3.9/site-packages (from flask-compress->dash>=1.9.0->dash-bootstrap-components) (1.0.9)\r\n"
     ]
    }
   ],
   "source": [
    "!pip install dash\n",
    "!pip install ipython-sql\n",
    "!pip install psycopg2-binary\n",
    "!pip install pandas\n",
    "!pip install numpy\n",
    "!pip install numpy matplotlib\n",
    "!pip install folium\n",
    "!pip install geojson\n",
    "!pip install jobspy\n",
    "!pip install dash-bootstrap-components"
   ]
  },
  {
   "cell_type": "code",
   "execution_count": 2,
   "id": "1beafe81",
   "metadata": {},
   "outputs": [
    {
     "name": "stderr",
     "output_type": "stream",
     "text": [
      "<ipython-input-2-284909b32e1d>:15: UserWarning: \n",
      "The dash_html_components package is deprecated. Please replace\n",
      "`import dash_html_components as html` with `from dash import html`\n",
      "  import dash_html_components as html\n",
      "<ipython-input-2-284909b32e1d>:16: UserWarning: \n",
      "The dash_core_components package is deprecated. Please replace\n",
      "`import dash_core_components as dcc` with `from dash import dcc`\n",
      "  import dash_core_components as dcc\n"
     ]
    }
   ],
   "source": [
    "import numpy as np\n",
    "import pandas as pd\n",
    "import psycopg2\n",
    "import pandas.io.sql as sqlio\n",
    "import matplotlib.pyplot as plt\n",
    "import pylab as pl\n",
    "import folium\n",
    "import json\n",
    "import os\n",
    "from folium import plugins\n",
    "%matplotlib inline\n",
    "\n",
    "import plotly.graph_objects as go\n",
    "import dash\n",
    "import dash_html_components as html\n",
    "import dash_core_components as dcc\n",
    "from dash.dependencies import Input, Output, State\n",
    "import plotly.express as px\n",
    "import dash_bootstrap_components as dbc\n",
    "import dash_core_components as dcc"
   ]
  },
  {
   "cell_type": "code",
   "execution_count": 3,
   "id": "4e1a3710",
   "metadata": {},
   "outputs": [],
   "source": [
    "with open('Data_to_Otomoto.json') as file:\n",
    "    Data_to_Otomoto = json.loads(file.read())\n",
    "car_brand = Data_to_Otomoto[\"car_brand\"]\n"
   ]
  },
  {
   "cell_type": "code",
   "execution_count": 4,
   "id": "692f19a1",
   "metadata": {},
   "outputs": [],
   "source": [
    "psql = psycopg2.connect(host='192.168.10.163', port='5432', database='Otomoto', user='barto', password='biznes')"
   ]
  },
  {
   "cell_type": "code",
   "execution_count": 5,
   "id": "5d0e4d08",
   "metadata": {},
   "outputs": [],
   "source": [
    "cur = psql.cursor()\n",
    "sql_otomoto = \"SELECT * FROM otomoto_10;\"\n",
    "dat_otomoto = sqlio.read_sql_query(sql_otomoto, psql)\n",
    "conn = None"
   ]
  },
  {
   "cell_type": "code",
   "execution_count": 6,
   "id": "924f1130",
   "metadata": {},
   "outputs": [],
   "source": [
    "car_loc = dat_otomoto[[\"cena\",\"marka_pojazdu\",\"przebieg\",\"rok_produkcji\"]]"
   ]
  },
  {
   "cell_type": "code",
   "execution_count": 7,
   "id": "22754c3e",
   "metadata": {},
   "outputs": [
    {
     "name": "stdout",
     "output_type": "stream",
     "text": [
      "Drop rows where Nan from table otomoto:  23\n"
     ]
    }
   ],
   "source": [
    "a = 0\n",
    "for index, row in car_loc.iterrows():\n",
    "    if (np.isnan(car_loc.at[index,'przebieg']) or np.isnan(car_loc.at[index,'rok_produkcji']) \n",
    "    or np.isnan(car_loc.at[index,'cena'])):\n",
    "        car_loc = car_loc.drop([index])\n",
    "        a += 1\n",
    "print(\"Drop rows where Nan from table otomoto: \", a)"
   ]
  },
  {
   "cell_type": "code",
   "execution_count": 8,
   "id": "b7d9960f",
   "metadata": {},
   "outputs": [],
   "source": [
    "car_loc = car_loc.reset_index(drop=True)"
   ]
  },
  {
   "cell_type": "code",
   "execution_count": 9,
   "id": "00b18408",
   "metadata": {},
   "outputs": [
    {
     "data": {
      "text/html": [
       "<div>\n",
       "<style scoped>\n",
       "    .dataframe tbody tr th:only-of-type {\n",
       "        vertical-align: middle;\n",
       "    }\n",
       "\n",
       "    .dataframe tbody tr th {\n",
       "        vertical-align: top;\n",
       "    }\n",
       "\n",
       "    .dataframe thead th {\n",
       "        text-align: right;\n",
       "    }\n",
       "</style>\n",
       "<table border=\"1\" class=\"dataframe\">\n",
       "  <thead>\n",
       "    <tr style=\"text-align: right;\">\n",
       "      <th></th>\n",
       "      <th>cena</th>\n",
       "      <th>marka_pojazdu</th>\n",
       "      <th>przebieg</th>\n",
       "      <th>rok_produkcji</th>\n",
       "    </tr>\n",
       "  </thead>\n",
       "  <tbody>\n",
       "    <tr>\n",
       "      <th>0</th>\n",
       "      <td>93500.0</td>\n",
       "      <td>Abarth</td>\n",
       "      <td>1.0</td>\n",
       "      <td>2021.0</td>\n",
       "    </tr>\n",
       "    <tr>\n",
       "      <th>1</th>\n",
       "      <td>69900.0</td>\n",
       "      <td>Abarth</td>\n",
       "      <td>25191.0</td>\n",
       "      <td>2018.0</td>\n",
       "    </tr>\n",
       "    <tr>\n",
       "      <th>2</th>\n",
       "      <td>61900.0</td>\n",
       "      <td>Abarth</td>\n",
       "      <td>30631.0</td>\n",
       "      <td>2017.0</td>\n",
       "    </tr>\n",
       "    <tr>\n",
       "      <th>3</th>\n",
       "      <td>67500.0</td>\n",
       "      <td>Abarth</td>\n",
       "      <td>18993.0</td>\n",
       "      <td>2019.0</td>\n",
       "    </tr>\n",
       "    <tr>\n",
       "      <th>4</th>\n",
       "      <td>37900.0</td>\n",
       "      <td>Abarth</td>\n",
       "      <td>86220.0</td>\n",
       "      <td>2010.0</td>\n",
       "    </tr>\n",
       "  </tbody>\n",
       "</table>\n",
       "</div>"
      ],
      "text/plain": [
       "      cena marka_pojazdu  przebieg  rok_produkcji\n",
       "0  93500.0        Abarth       1.0         2021.0\n",
       "1  69900.0        Abarth   25191.0         2018.0\n",
       "2  61900.0        Abarth   30631.0         2017.0\n",
       "3  67500.0        Abarth   18993.0         2019.0\n",
       "4  37900.0        Abarth   86220.0         2010.0"
      ]
     },
     "execution_count": 9,
     "metadata": {},
     "output_type": "execute_result"
    }
   ],
   "source": [
    "car_loc.head()"
   ]
  },
  {
   "cell_type": "code",
   "execution_count": null,
   "id": "31fc061d",
   "metadata": {},
   "outputs": [],
   "source": [
    "fig = go.Figure()\n",
    "fig.add_trace(go.Scatter(x=car_loc[rok_produkcji], y=car_loc[cena],\n",
    "                    mode='lines',\n",
    "                    name='lines'))\n",
    "fig.show()"
   ]
  },
  {
   "cell_type": "code",
   "execution_count": 10,
   "id": "a13d5d93",
   "metadata": {},
   "outputs": [
    {
     "data": {
      "text/plain": [
       "(11882, 4)"
      ]
     },
     "execution_count": 10,
     "metadata": {},
     "output_type": "execute_result"
    }
   ],
   "source": [
    "car_loc.shape"
   ]
  },
  {
   "cell_type": "code",
   "execution_count": null,
   "id": "2f949ddd",
   "metadata": {},
   "outputs": [
    {
     "name": "stdout",
     "output_type": "stream",
     "text": [
      "Dash is running on http://0.0.0.0:8050/\n",
      "\n",
      "Dash is running on http://0.0.0.0:8050/\n",
      "\n",
      "Dash is running on http://0.0.0.0:8050/\n",
      "\n",
      " * Serving Flask app '__main__' (lazy loading)\n",
      " * Environment: production\n",
      "\u001b[31m   WARNING: This is a development server. Do not use it in a production deployment.\u001b[0m\n",
      "\u001b[2m   Use a production WSGI server instead.\u001b[0m\n",
      " * Debug mode: off\n"
     ]
    },
    {
     "name": "stderr",
     "output_type": "stream",
     "text": [
      " * Running on all addresses.\n",
      "   WARNING: This is a development server. Do not use it in a production deployment.\n",
      " * Running on http://172.17.0.2:8050/ (Press CTRL+C to quit)\n",
      "192.168.10.24 - - [05/Oct/2021 20:04:38] \"GET / HTTP/1.1\" 200 -\n",
      "192.168.10.24 - - [05/Oct/2021 20:04:39] \"\u001b[36mGET /assets/stylesheet.css?m=1633374912.958587 HTTP/1.1\u001b[0m\" 304 -\n",
      "192.168.10.24 - - [05/Oct/2021 20:04:39] \"GET /_favicon.ico?v=2.0.0 HTTP/1.1\" 200 -\n",
      "192.168.10.24 - - [05/Oct/2021 20:04:39] \"GET /_dash-layout HTTP/1.1\" 200 -\n",
      "192.168.10.24 - - [05/Oct/2021 20:04:39] \"GET /_dash-dependencies HTTP/1.1\" 200 -\n",
      "192.168.10.24 - - [05/Oct/2021 20:04:39] \"GET /_favicon.ico?v=2.0.0 HTTP/1.1\" 200 -\n",
      "192.168.10.151 - - [05/Oct/2021 20:04:47] \"GET / HTTP/1.1\" 200 -\n",
      "192.168.10.151 - - [05/Oct/2021 20:04:47] \"\u001b[36mGET /assets/stylesheet.css?m=1633374912.958587 HTTP/1.1\u001b[0m\" 304 -\n",
      "192.168.10.151 - - [05/Oct/2021 20:04:47] \"GET /_favicon.ico?v=2.0.0 HTTP/1.1\" 200 -\n",
      "192.168.10.151 - - [05/Oct/2021 20:04:47] \"GET /_dash-dependencies HTTP/1.1\" 200 -\n",
      "192.168.10.151 - - [05/Oct/2021 20:04:47] \"GET /_dash-layout HTTP/1.1\" 200 -\n",
      "192.168.10.151 - - [05/Oct/2021 20:04:47] \"GET /_dash-component-suites/dash/dcc/dash_core_components-shared.js.map HTTP/1.1\" 200 -\n",
      "192.168.10.151 - - [05/Oct/2021 20:04:47] \"GET /_dash-component-suites/dash/dcc/dash_core_components.js.map HTTP/1.1\" 200 -\n",
      "192.168.10.151 - - [05/Oct/2021 20:04:47] \"GET /_dash-component-suites/dash/html/dash_html_components.min.js.map HTTP/1.1\" 200 -\n",
      "192.168.10.151 - - [05/Oct/2021 20:04:47] \"GET /_dash-component-suites/dash/dash_table/bundle.js.map HTTP/1.1\" 200 -\n",
      "192.168.10.151 - - [05/Oct/2021 20:04:52] \"GET / HTTP/1.1\" 200 -\n",
      "192.168.10.151 - - [05/Oct/2021 20:04:52] \"\u001b[36mGET /assets/stylesheet.css?m=1633374912.958587 HTTP/1.1\u001b[0m\" 304 -\n",
      "192.168.10.151 - - [05/Oct/2021 20:04:52] \"GET /_favicon.ico?v=2.0.0 HTTP/1.1\" 200 -\n",
      "192.168.10.151 - - [05/Oct/2021 20:04:52] \"GET /_dash-component-suites/dash/dcc/dash_core_components-shared.js.map HTTP/1.1\" 200 -\n",
      "192.168.10.151 - - [05/Oct/2021 20:04:52] \"GET /_dash-component-suites/dash/html/dash_html_components.min.js.map HTTP/1.1\" 200 -\n",
      "192.168.10.151 - - [05/Oct/2021 20:04:52] \"GET /_dash-layout HTTP/1.1\" 200 -\n",
      "192.168.10.151 - - [05/Oct/2021 20:04:52] \"GET /_dash-component-suites/dash/dash_table/bundle.js.map HTTP/1.1\" 200 -\n",
      "192.168.10.151 - - [05/Oct/2021 20:04:52] \"GET /_dash-component-suites/dash/dcc/dash_core_components.js.map HTTP/1.1\" 200 -\n",
      "192.168.10.151 - - [05/Oct/2021 20:04:52] \"GET /_dash-dependencies HTTP/1.1\" 200 -\n",
      "192.168.10.151 - - [05/Oct/2021 20:05:00] \"GET / HTTP/1.1\" 200 -\n",
      "192.168.10.151 - - [05/Oct/2021 20:05:00] \"\u001b[36mGET /assets/stylesheet.css?m=1633374912.958587 HTTP/1.1\u001b[0m\" 304 -\n",
      "192.168.10.151 - - [05/Oct/2021 20:05:00] \"GET /_favicon.ico?v=2.0.0 HTTP/1.1\" 200 -\n",
      "192.168.10.151 - - [05/Oct/2021 20:05:00] \"GET /_dash-component-suites/dash/dcc/dash_core_components.js.map HTTP/1.1\" 200 -\n",
      "192.168.10.151 - - [05/Oct/2021 20:05:00] \"GET /_dash-component-suites/dash/dcc/dash_core_components-shared.js.map HTTP/1.1\" 200 -\n",
      "192.168.10.151 - - [05/Oct/2021 20:05:00] \"GET /_dash-component-suites/dash/html/dash_html_components.min.js.map HTTP/1.1\" 200 -\n",
      "192.168.10.151 - - [05/Oct/2021 20:05:00] \"GET /_dash-component-suites/dash/dash_table/bundle.js.map HTTP/1.1\" 200 -\n",
      "192.168.10.151 - - [05/Oct/2021 20:05:00] \"GET /_dash-layout HTTP/1.1\" 200 -\n",
      "192.168.10.151 - - [05/Oct/2021 20:05:00] \"GET /_dash-dependencies HTTP/1.1\" 200 -\n",
      "192.168.10.151 - - [05/Oct/2021 20:05:04] \"GET / HTTP/1.1\" 200 -\n",
      "192.168.10.151 - - [05/Oct/2021 20:05:04] \"\u001b[36mGET /assets/stylesheet.css?m=1633374912.958587 HTTP/1.1\u001b[0m\" 304 -\n",
      "192.168.10.151 - - [05/Oct/2021 20:05:04] \"GET /_favicon.ico?v=2.0.0 HTTP/1.1\" 200 -\n",
      "192.168.10.151 - - [05/Oct/2021 20:05:04] \"GET /_dash-component-suites/dash/dcc/dash_core_components-shared.js.map HTTP/1.1\" 200 -\n",
      "192.168.10.151 - - [05/Oct/2021 20:05:04] \"GET /_dash-layout HTTP/1.1\" 200 -\n",
      "192.168.10.151 - - [05/Oct/2021 20:05:04] \"GET /_dash-component-suites/dash/dcc/dash_core_components.js.map HTTP/1.1\" 200 -\n",
      "192.168.10.151 - - [05/Oct/2021 20:05:04] \"GET /_dash-component-suites/dash/html/dash_html_components.min.js.map HTTP/1.1\" 200 -\n",
      "192.168.10.151 - - [05/Oct/2021 20:05:04] \"GET /_dash-dependencies HTTP/1.1\" 200 -\n",
      "192.168.10.151 - - [05/Oct/2021 20:05:04] \"GET /_dash-component-suites/dash/dash_table/bundle.js.map HTTP/1.1\" 200 -\n",
      "192.168.10.151 - - [05/Oct/2021 20:05:10] \"GET / HTTP/1.1\" 200 -\n",
      "192.168.10.151 - - [05/Oct/2021 20:05:10] \"\u001b[36mGET /assets/stylesheet.css?m=1633374912.958587 HTTP/1.1\u001b[0m\" 304 -\n",
      "192.168.10.151 - - [05/Oct/2021 20:05:10] \"GET /_favicon.ico?v=2.0.0 HTTP/1.1\" 200 -\n",
      "192.168.10.151 - - [05/Oct/2021 20:05:10] \"GET /_dash-component-suites/dash/dcc/dash_core_components-shared.js.map HTTP/1.1\" 200 -\n",
      "192.168.10.151 - - [05/Oct/2021 20:05:10] \"GET /_dash-component-suites/dash/html/dash_html_components.min.js.map HTTP/1.1\" 200 -\n",
      "192.168.10.151 - - [05/Oct/2021 20:05:10] \"GET /_dash-component-suites/dash/dash_table/bundle.js.map HTTP/1.1\" 200 -\n",
      "192.168.10.151 - - [05/Oct/2021 20:05:10] \"GET /_dash-layout HTTP/1.1\" 200 -\n",
      "192.168.10.151 - - [05/Oct/2021 20:05:10] \"GET /_dash-dependencies HTTP/1.1\" 200 -\n",
      "192.168.10.151 - - [05/Oct/2021 20:05:10] \"GET /_dash-component-suites/dash/dcc/dash_core_components.js.map HTTP/1.1\" 200 -\n",
      "192.168.10.151 - - [05/Oct/2021 20:05:11] \"GET / HTTP/1.1\" 200 -\n",
      "192.168.10.151 - - [05/Oct/2021 20:05:11] \"\u001b[36mGET /assets/stylesheet.css?m=1633374912.958587 HTTP/1.1\u001b[0m\" 304 -\n",
      "192.168.10.151 - - [05/Oct/2021 20:05:11] \"GET /_favicon.ico?v=2.0.0 HTTP/1.1\" 200 -\n",
      "192.168.10.151 - - [05/Oct/2021 20:05:11] \"GET /_dash-layout HTTP/1.1\" 200 -\n",
      "192.168.10.151 - - [05/Oct/2021 20:05:11] \"GET /_dash-component-suites/dash/dcc/dash_core_components.js.map HTTP/1.1\" 200 -\n",
      "192.168.10.151 - - [05/Oct/2021 20:05:11] \"GET /_dash-dependencies HTTP/1.1\" 200 -\n",
      "192.168.10.151 - - [05/Oct/2021 20:05:11] \"GET /_dash-component-suites/dash/html/dash_html_components.min.js.map HTTP/1.1\" 200 -\n",
      "192.168.10.151 - - [05/Oct/2021 20:05:11] \"GET /_dash-component-suites/dash/dcc/dash_core_components-shared.js.map HTTP/1.1\" 200 -\n",
      "192.168.10.151 - - [05/Oct/2021 20:05:11] \"GET /_dash-component-suites/dash/dash_table/bundle.js.map HTTP/1.1\" 200 -\n",
      "192.168.10.151 - - [05/Oct/2021 20:05:44] \"GET / HTTP/1.1\" 200 -\n",
      "192.168.10.151 - - [05/Oct/2021 20:05:44] \"\u001b[36mGET /assets/stylesheet.css?m=1633374912.958587 HTTP/1.1\u001b[0m\" 304 -\n",
      "192.168.10.151 - - [05/Oct/2021 20:05:44] \"GET /_favicon.ico?v=2.0.0 HTTP/1.1\" 200 -\n",
      "192.168.10.151 - - [05/Oct/2021 20:05:44] \"GET /_dash-component-suites/dash/html/dash_html_components.min.js.map HTTP/1.1\" 200 -\n",
      "192.168.10.151 - - [05/Oct/2021 20:05:44] \"GET /_dash-component-suites/dash/dcc/dash_core_components.js.map HTTP/1.1\" 200 -\n",
      "192.168.10.151 - - [05/Oct/2021 20:05:44] \"GET /_dash-component-suites/dash/dcc/dash_core_components-shared.js.map HTTP/1.1\" 200 -\n",
      "192.168.10.151 - - [05/Oct/2021 20:05:44] \"GET /_dash-layout HTTP/1.1\" 200 -\n",
      "192.168.10.151 - - [05/Oct/2021 20:05:44] \"GET /_dash-dependencies HTTP/1.1\" 200 -\n",
      "192.168.10.151 - - [05/Oct/2021 20:05:44] \"GET /_dash-component-suites/dash/dash_table/bundle.js.map HTTP/1.1\" 200 -\n",
      "192.168.10.151 - - [05/Oct/2021 20:05:46] \"GET / HTTP/1.1\" 200 -\n",
      "192.168.10.151 - - [05/Oct/2021 20:05:46] \"\u001b[36mGET /assets/stylesheet.css?m=1633374912.958587 HTTP/1.1\u001b[0m\" 304 -\n",
      "192.168.10.151 - - [05/Oct/2021 20:05:46] \"GET /_favicon.ico?v=2.0.0 HTTP/1.1\" 200 -\n",
      "192.168.10.151 - - [05/Oct/2021 20:05:46] \"GET /_dash-component-suites/dash/dcc/dash_core_components-shared.js.map HTTP/1.1\" 200 -\n",
      "192.168.10.151 - - [05/Oct/2021 20:05:46] \"GET /_dash-component-suites/dash/html/dash_html_components.min.js.map HTTP/1.1\" 200 -\n",
      "192.168.10.151 - - [05/Oct/2021 20:05:46] \"GET /_dash-component-suites/dash/dash_table/bundle.js.map HTTP/1.1\" 200 -\n",
      "192.168.10.151 - - [05/Oct/2021 20:05:46] \"GET /_dash-component-suites/dash/dcc/dash_core_components.js.map HTTP/1.1\" 200 -\n",
      "192.168.10.151 - - [05/Oct/2021 20:05:46] \"GET /_dash-layout HTTP/1.1\" 200 -\n",
      "192.168.10.151 - - [05/Oct/2021 20:05:46] \"GET /_dash-dependencies HTTP/1.1\" 200 -\n",
      "192.168.10.151 - - [05/Oct/2021 20:05:48] \"GET / HTTP/1.1\" 200 -\n",
      "192.168.10.151 - - [05/Oct/2021 20:05:48] \"\u001b[36mGET /assets/stylesheet.css?m=1633374912.958587 HTTP/1.1\u001b[0m\" 304 -\n"
     ]
    },
    {
     "name": "stderr",
     "output_type": "stream",
     "text": [
      "192.168.10.151 - - [05/Oct/2021 20:05:48] \"GET /_favicon.ico?v=2.0.0 HTTP/1.1\" 200 -\n",
      "192.168.10.151 - - [05/Oct/2021 20:05:48] \"GET /_dash-component-suites/dash/html/dash_html_components.min.js.map HTTP/1.1\" 200 -\n",
      "192.168.10.151 - - [05/Oct/2021 20:05:48] \"GET /_dash-component-suites/dash/dcc/dash_core_components-shared.js.map HTTP/1.1\" 200 -\n",
      "192.168.10.151 - - [05/Oct/2021 20:05:48] \"GET /_dash-layout HTTP/1.1\" 200 -\n",
      "192.168.10.151 - - [05/Oct/2021 20:05:48] \"GET /_dash-component-suites/dash/dcc/dash_core_components.js.map HTTP/1.1\" 200 -\n",
      "192.168.10.151 - - [05/Oct/2021 20:05:48] \"GET /_dash-dependencies HTTP/1.1\" 200 -\n",
      "192.168.10.151 - - [05/Oct/2021 20:05:48] \"GET /_dash-component-suites/dash/dash_table/bundle.js.map HTTP/1.1\" 200 -\n",
      "192.168.10.151 - - [05/Oct/2021 20:05:50] \"GET / HTTP/1.1\" 200 -\n",
      "192.168.10.151 - - [05/Oct/2021 20:05:50] \"\u001b[36mGET /assets/stylesheet.css?m=1633374912.958587 HTTP/1.1\u001b[0m\" 304 -\n",
      "192.168.10.151 - - [05/Oct/2021 20:05:50] \"GET /_favicon.ico?v=2.0.0 HTTP/1.1\" 200 -\n",
      "192.168.10.151 - - [05/Oct/2021 20:05:50] \"GET /_dash-component-suites/dash/dcc/dash_core_components-shared.js.map HTTP/1.1\" 200 -\n",
      "192.168.10.151 - - [05/Oct/2021 20:05:50] \"GET /_dash-component-suites/dash/dash_table/bundle.js.map HTTP/1.1\" 200 -\n",
      "192.168.10.151 - - [05/Oct/2021 20:05:50] \"GET /_dash-component-suites/dash/dcc/dash_core_components.js.map HTTP/1.1\" 200 -\n",
      "192.168.10.151 - - [05/Oct/2021 20:05:50] \"GET /_dash-layout HTTP/1.1\" 200 -\n",
      "192.168.10.151 - - [05/Oct/2021 20:05:50] \"GET /_dash-dependencies HTTP/1.1\" 200 -\n",
      "192.168.10.151 - - [05/Oct/2021 20:05:50] \"GET /_dash-component-suites/dash/html/dash_html_components.min.js.map HTTP/1.1\" 200 -\n",
      "192.168.10.151 - - [05/Oct/2021 20:05:51] \"GET / HTTP/1.1\" 200 -\n",
      "192.168.10.151 - - [05/Oct/2021 20:05:51] \"\u001b[36mGET /assets/stylesheet.css?m=1633374912.958587 HTTP/1.1\u001b[0m\" 304 -\n",
      "192.168.10.151 - - [05/Oct/2021 20:05:51] \"GET /_favicon.ico?v=2.0.0 HTTP/1.1\" 200 -\n",
      "192.168.10.151 - - [05/Oct/2021 20:05:51] \"GET /_dash-component-suites/dash/dcc/dash_core_components-shared.js.map HTTP/1.1\" 200 -\n",
      "192.168.10.151 - - [05/Oct/2021 20:05:51] \"GET /_dash-layout HTTP/1.1\" 200 -\n",
      "192.168.10.151 - - [05/Oct/2021 20:05:51] \"GET /_dash-component-suites/dash/html/dash_html_components.min.js.map HTTP/1.1\" 200 -\n",
      "192.168.10.151 - - [05/Oct/2021 20:05:51] \"GET /_dash-component-suites/dash/dcc/dash_core_components.js.map HTTP/1.1\" 200 -\n",
      "192.168.10.151 - - [05/Oct/2021 20:05:51] \"GET /_dash-dependencies HTTP/1.1\" 200 -\n",
      "192.168.10.151 - - [05/Oct/2021 20:05:51] \"GET /_dash-component-suites/dash/dash_table/bundle.js.map HTTP/1.1\" 200 -\n",
      "192.168.10.151 - - [05/Oct/2021 20:12:32] \"GET / HTTP/1.1\" 200 -\n",
      "192.168.10.151 - - [05/Oct/2021 20:12:32] \"\u001b[36mGET /assets/stylesheet.css?m=1633374912.958587 HTTP/1.1\u001b[0m\" 304 -\n",
      "192.168.10.151 - - [05/Oct/2021 20:12:32] \"GET /_dash-component-suites/dash/dcc/dash_core_components-shared.js.map HTTP/1.1\" 200 -\n",
      "192.168.10.151 - - [05/Oct/2021 20:12:32] \"GET /_dash-component-suites/dash/dcc/dash_core_components.js.map HTTP/1.1\" 200 -\n",
      "192.168.10.151 - - [05/Oct/2021 20:12:32] \"GET /_dash-component-suites/dash/html/dash_html_components.min.js.map HTTP/1.1\" 200 -\n",
      "192.168.10.151 - - [05/Oct/2021 20:12:32] \"GET /_favicon.ico?v=2.0.0 HTTP/1.1\" 200 -\n",
      "192.168.10.151 - - [05/Oct/2021 20:12:32] \"GET /_dash-dependencies HTTP/1.1\" 200 -\n",
      "192.168.10.151 - - [05/Oct/2021 20:12:32] \"GET /_dash-layout HTTP/1.1\" 200 -\n",
      "192.168.10.151 - - [05/Oct/2021 20:12:32] \"GET /_dash-component-suites/dash/dash_table/bundle.js.map HTTP/1.1\" 200 -\n",
      "192.168.10.151 - - [05/Oct/2021 20:15:04] \"GET / HTTP/1.1\" 200 -\n",
      "192.168.10.151 - - [05/Oct/2021 20:15:04] \"\u001b[36mGET /assets/stylesheet.css?m=1633374912.958587 HTTP/1.1\u001b[0m\" 304 -\n",
      "192.168.10.151 - - [05/Oct/2021 20:15:05] \"GET / HTTP/1.1\" 200 -\n",
      "192.168.10.151 - - [05/Oct/2021 20:15:05] \"\u001b[36mGET /assets/stylesheet.css?m=1633374912.958587 HTTP/1.1\u001b[0m\" 304 -\n",
      "192.168.10.151 - - [05/Oct/2021 20:15:05] \"GET /_dash-layout HTTP/1.1\" 200 -\n",
      "192.168.10.151 - - [05/Oct/2021 20:15:05] \"GET /_dash-dependencies HTTP/1.1\" 200 -\n",
      "192.168.10.151 - - [05/Oct/2021 20:15:05] \"GET /_favicon.ico?v=2.0.0 HTTP/1.1\" 200 -\n",
      "192.168.10.151 - - [05/Oct/2021 20:15:05] \"GET /_dash-component-suites/dash/dcc/dash_core_components-shared.js.map HTTP/1.1\" 200 -\n",
      "192.168.10.151 - - [05/Oct/2021 20:15:05] \"GET /_dash-dependencies HTTP/1.1\" 200 -\n",
      "192.168.10.151 - - [05/Oct/2021 20:15:05] \"GET /_dash-component-suites/dash/dcc/dash_core_components.js.map HTTP/1.1\" 200 -\n",
      "192.168.10.151 - - [05/Oct/2021 20:15:05] \"GET /_dash-layout HTTP/1.1\" 200 -\n",
      "192.168.10.151 - - [05/Oct/2021 20:15:05] \"GET /_dash-component-suites/dash/html/dash_html_components.min.js.map HTTP/1.1\" 200 -\n",
      "192.168.10.151 - - [05/Oct/2021 20:15:05] \"GET /_dash-component-suites/dash/dash_table/bundle.js.map HTTP/1.1\" 200 -\n",
      "192.168.10.151 - - [05/Oct/2021 20:15:10] \"GET / HTTP/1.1\" 200 -\n",
      "192.168.10.151 - - [05/Oct/2021 20:15:10] \"\u001b[36mGET /assets/stylesheet.css?m=1633374912.958587 HTTP/1.1\u001b[0m\" 304 -\n",
      "192.168.10.151 - - [05/Oct/2021 20:15:10] \"GET /_favicon.ico?v=2.0.0 HTTP/1.1\" 200 -\n",
      "192.168.10.151 - - [05/Oct/2021 20:15:10] \"GET /_dash-layout HTTP/1.1\" 200 -\n",
      "192.168.10.151 - - [05/Oct/2021 20:15:10] \"GET /_dash-dependencies HTTP/1.1\" 200 -\n",
      "192.168.10.151 - - [05/Oct/2021 20:15:10] \"GET /_dash-component-suites/dash/dcc/dash_core_components-shared.js.map HTTP/1.1\" 200 -\n",
      "192.168.10.151 - - [05/Oct/2021 20:15:10] \"GET /_dash-component-suites/dash/dcc/dash_core_components.js.map HTTP/1.1\" 200 -\n",
      "192.168.10.151 - - [05/Oct/2021 20:15:10] \"GET /_dash-component-suites/dash/dash_table/bundle.js.map HTTP/1.1\" 200 -\n",
      "192.168.10.151 - - [05/Oct/2021 20:15:10] \"GET /_dash-component-suites/dash/html/dash_html_components.min.js.map HTTP/1.1\" 200 -\n"
     ]
    }
   ],
   "source": [
    "app = dash.Dash(__name__,external_stylesheets=[dbc.themes.LITERA])\n",
    "\n",
    "app.layout = html.Div(\n",
    "html.H1('Cars for sell in Otomoto',style={'textAlign': 'center','front-size' :50}))\n",
    "\n",
    "\n",
    "\n",
    "if __name__ == '__main__':\n",
    "    app.run_server(host='0.0.0.0')"
   ]
  }
 ],
 "metadata": {
  "kernelspec": {
   "display_name": "Python 3",
   "language": "python",
   "name": "python3"
  },
  "language_info": {
   "codemirror_mode": {
    "name": "ipython",
    "version": 3
   },
   "file_extension": ".py",
   "mimetype": "text/x-python",
   "name": "python",
   "nbconvert_exporter": "python",
   "pygments_lexer": "ipython3",
   "version": "3.9.2"
  }
 },
 "nbformat": 4,
 "nbformat_minor": 5
}
