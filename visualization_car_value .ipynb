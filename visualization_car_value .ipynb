{
 "cells": [
  {
   "cell_type": "code",
   "execution_count": null,
   "id": "e06bba3d",
   "metadata": {},
   "outputs": [
    {
     "name": "stdout",
     "output_type": "stream",
     "text": [
      "Requirement already satisfied: dash in /opt/conda/lib/python3.9/site-packages (2.0.0)\n",
      "Requirement already satisfied: dash-core-components==2.0.0 in /opt/conda/lib/python3.9/site-packages (from dash) (2.0.0)\n",
      "Requirement already satisfied: plotly>=5.0.0 in /opt/conda/lib/python3.9/site-packages (from dash) (5.2.1)\n",
      "Requirement already satisfied: flask-compress in /opt/conda/lib/python3.9/site-packages (from dash) (1.10.1)\n",
      "Requirement already satisfied: dash-table==5.0.0 in /opt/conda/lib/python3.9/site-packages (from dash) (5.0.0)\n",
      "Requirement already satisfied: Flask>=1.0.4 in /opt/conda/lib/python3.9/site-packages (from dash) (2.0.1)\n",
      "Requirement already satisfied: dash-html-components==2.0.0 in /opt/conda/lib/python3.9/site-packages (from dash) (2.0.0)\n",
      "Requirement already satisfied: Werkzeug>=2.0 in /opt/conda/lib/python3.9/site-packages (from Flask>=1.0.4->dash) (2.0.1)\n",
      "Requirement already satisfied: itsdangerous>=2.0 in /opt/conda/lib/python3.9/site-packages (from Flask>=1.0.4->dash) (2.0.1)\n",
      "Requirement already satisfied: click>=7.1.2 in /opt/conda/lib/python3.9/site-packages (from Flask>=1.0.4->dash) (7.1.2)\n",
      "Requirement already satisfied: Jinja2>=3.0 in /opt/conda/lib/python3.9/site-packages (from Flask>=1.0.4->dash) (3.0.1)\n",
      "Requirement already satisfied: MarkupSafe>=2.0 in /opt/conda/lib/python3.9/site-packages (from Jinja2>=3.0->Flask>=1.0.4->dash) (2.0.1)\n",
      "Requirement already satisfied: tenacity>=6.2.0 in /opt/conda/lib/python3.9/site-packages (from plotly>=5.0.0->dash) (8.0.1)\n",
      "Requirement already satisfied: six in /opt/conda/lib/python3.9/site-packages (from plotly>=5.0.0->dash) (1.16.0)\n",
      "Requirement already satisfied: brotli in /opt/conda/lib/python3.9/site-packages (from flask-compress->dash) (1.0.9)\n"
     ]
    }
   ],
   "source": [
    "!pip install dash\n",
    "!pip install ipython-sql\n",
    "!pip install psycopg2-binary\n",
    "!pip install pandas\n",
    "!pip install numpy\n",
    "!pip install numpy matplotlib\n",
    "!pip install folium\n",
    "!pip install geojson\n",
    "!pip install jobspy\n",
    "!pip install dash-bootstrap-components"
   ]
  },
  {
   "cell_type": "code",
   "execution_count": null,
   "id": "0bed63f0",
   "metadata": {},
   "outputs": [],
   "source": [
    "import numpy as np\n",
    "import pandas as pd\n",
    "import psycopg2\n",
    "import pandas.io.sql as sqlio\n",
    "import matplotlib.pyplot as plt\n",
    "import pylab as pl\n",
    "import folium\n",
    "import json\n",
    "import os\n",
    "from folium import plugins\n",
    "%matplotlib inline\n",
    "\n",
    "import plotly.graph_objects as go\n",
    "import dash\n",
    "import dash_html_components as html\n",
    "import dash_core_components as dcc\n",
    "from dash.dependencies import Input, Output, State\n",
    "import plotly.express as px\n",
    "import dash_bootstrap_components as dbc\n",
    "import dash_core_components as dcc"
   ]
  },
  {
   "cell_type": "code",
   "execution_count": null,
   "id": "50c87c60",
   "metadata": {},
   "outputs": [],
   "source": [
    "with open('Data_to_Otomoto.json') as file:\n",
    "    Data_to_Otomoto = json.loads(file.read())\n",
    "car_brand = Data_to_Otomoto[\"car_brand\"]\n",
    "options = Data_to_Otomoto[\"options\"]\n"
   ]
  },
  {
   "cell_type": "code",
   "execution_count": null,
   "id": "4836798a",
   "metadata": {},
   "outputs": [],
   "source": [
    "psql = psycopg2.connect(host='192.168.10.163', port='5432', database='Otomoto', user='barto', password='biznes')"
   ]
  },
  {
   "cell_type": "code",
   "execution_count": null,
   "id": "9d2322e2",
   "metadata": {},
   "outputs": [],
   "source": [
    "cur = psql.cursor()\n",
    "sql_line_graph = \"SELECT AVG(cena), rok_produkcji, marka_pojazdu FROM otomoto_10 GROUP BY rok_produkcji, marka_pojazdu ORDER BY rok_produkcji DESC ;\"\n",
    "line_graph = sqlio.read_sql_query(sql_line_graph, psql)\n",
    "sql_scatter_plot = \"SELECT cena, przebieg, marka_pojazdu FROM otomoto_10;\"\n",
    "scatter_plot = sqlio.read_sql_query(sql_scatter_plot, psql)\n",
    "conn = None\n"
   ]
  },
  {
   "cell_type": "code",
   "execution_count": null,
   "id": "dbb86664",
   "metadata": {},
   "outputs": [],
   "source": [
    "a = 0\n",
    "for index, row in scatter_plot.iterrows():\n",
    "    if (np.isnan(scatter_plot.at[index,'przebieg']) or np.isnan(scatter_plot.at[index,'cena'])):\n",
    "        scatter_plot = scatter_plot.drop([index])\n",
    "        a += 1\n",
    "print(\"Drop rows where Nan from table otomoto: \", a)"
   ]
  },
  {
   "cell_type": "code",
   "execution_count": null,
   "id": "8c8a9a84",
   "metadata": {},
   "outputs": [],
   "source": [
    "scatter_plot = scatter_plot.reset_index(drop=True)"
   ]
  },
  {
   "cell_type": "code",
   "execution_count": null,
   "id": "6ce7b2d7",
   "metadata": {},
   "outputs": [],
   "source": [
    "app = dash.Dash(__name__,external_stylesheets=[dbc.themes.LITERA])\n",
    "\n",
    "app.layout = html.Div(children=[\n",
    "    html.H1('Cars for sell in Otomoto',style={'textAlign': 'center','front-size' :50}),\n",
    "    dcc.Dropdown(id='brand_dropdown',\n",
    "    options=options,\n",
    "\n",
    "    optionHeight=35,\n",
    "    value='BMW',\n",
    "    disabled=False,\n",
    "    multi=False,\n",
    "    searchable=True,\n",
    "    search_value='',\n",
    "    placeholder='Please select...',\n",
    "    clearable=True,\n",
    "    style={'width':\"100%\"},     \n",
    "    ),\n",
    "                                        \n",
    "    \n",
    "    html.Br(),\n",
    "    html.Div(className='text', children=[\n",
    "            html.Span('Number of years from which we have data: '),\n",
    "            html.Span(id='total_rows_line_graph_data'),]),\n",
    "    dcc.Graph(id='line_graph_fig'),\n",
    "    html.Div(className='text', children=[\n",
    "            html.Span('Number of cars used to generate graph: '),\n",
    "            html.Span(id='total_rows_scatter_plot_data'),]),\n",
    "    dcc.Graph(id='scatter_plot_fig')\n",
    "\n",
    "    ])\n",
    "\n",
    "@app.callback(\n",
    "    [Output(component_id='line_graph_fig', component_property='figure'),\n",
    "    Output(component_id='scatter_plot_fig', component_property='figure'),\n",
    "    Output(component_id='total_rows_line_graph_data', component_property='children'),\n",
    "    Output(component_id='total_rows_scatter_plot_data', component_property='children')],\n",
    "    [Input(component_id='brand_dropdown', component_property='value')]\n",
    ")\n",
    "\n",
    "def build_graph(brand_chosen):\n",
    "    \n",
    "    line_graph_data = line_graph.loc[line_graph['marka_pojazdu'] == brand_chosen]\n",
    "    line_graph_fig = go.Figure([go.Scatter(x=line_graph_data['rok_produkcji'], y=line_graph_data['avg'], \n",
    "                                mode='lines+markers')])\n",
    "    \n",
    "    scatter_plot_data = scatter_plot.loc[scatter_plot['marka_pojazdu'] == brand_chosen]\n",
    "    scatter_plot_fig = px.scatter(scatter_plot_data, x=scatter_plot_data['przebieg'], \n",
    "                     y=scatter_plot_data['cena'], trendline=\"ols\")\n",
    "    \n",
    "    total_rows_line_graph_data = len(line_graph_data.index) \n",
    "    print(total_rows_line_graph_data)\n",
    "    total_rows_scatter_plot_data = len(scatter_plot_data.index) \n",
    "    print(total_rows_scatter_plot_data)\n",
    "    \n",
    "    return line_graph_fig, scatter_plot_fig, total_rows_line_graph_data, total_rows_scatter_plot_data\n",
    "\n",
    "\n",
    "if __name__ == '__main__':\n",
    "    app.run_server(host='0.0.0.0')"
   ]
  },
  {
   "cell_type": "code",
   "execution_count": null,
   "id": "6f1af430",
   "metadata": {},
   "outputs": [],
   "source": []
  },
  {
   "cell_type": "code",
   "execution_count": null,
   "id": "9dfeb029",
   "metadata": {},
   "outputs": [],
   "source": []
  }
 ],
 "metadata": {
  "kernelspec": {
   "display_name": "Python 3",
   "language": "python",
   "name": "python3"
  },
  "language_info": {
   "codemirror_mode": {
    "name": "ipython",
    "version": 3
   },
   "file_extension": ".py",
   "mimetype": "text/x-python",
   "name": "python",
   "nbconvert_exporter": "python",
   "pygments_lexer": "ipython3",
   "version": "3.9.2"
  }
 },
 "nbformat": 4,
 "nbformat_minor": 5
}
