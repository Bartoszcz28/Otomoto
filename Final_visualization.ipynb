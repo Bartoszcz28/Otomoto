{
 "cells": [
  {
   "cell_type": "markdown",
   "id": "6183ef3e",
   "metadata": {},
   "source": [
    "# Dashboard visualization Otomoto"
   ]
  },
  {
   "cell_type": "code",
   "execution_count": 1,
   "id": "0365617e",
   "metadata": {},
   "outputs": [
    {
     "name": "stdout",
     "output_type": "stream",
     "text": [
      "Requirement already satisfied: dash in /opt/conda/lib/python3.9/site-packages (2.0.0)\n",
      "Requirement already satisfied: plotly>=5.0.0 in /opt/conda/lib/python3.9/site-packages (from dash) (5.2.1)\n",
      "Requirement already satisfied: dash-table==5.0.0 in /opt/conda/lib/python3.9/site-packages (from dash) (5.0.0)\n",
      "Requirement already satisfied: flask-compress in /opt/conda/lib/python3.9/site-packages (from dash) (1.10.1)\n",
      "Requirement already satisfied: dash-html-components==2.0.0 in /opt/conda/lib/python3.9/site-packages (from dash) (2.0.0)\n",
      "Requirement already satisfied: dash-core-components==2.0.0 in /opt/conda/lib/python3.9/site-packages (from dash) (2.0.0)\n",
      "Requirement already satisfied: Flask>=1.0.4 in /opt/conda/lib/python3.9/site-packages (from dash) (2.0.1)\n",
      "Requirement already satisfied: click>=7.1.2 in /opt/conda/lib/python3.9/site-packages (from Flask>=1.0.4->dash) (7.1.2)\n",
      "Requirement already satisfied: Werkzeug>=2.0 in /opt/conda/lib/python3.9/site-packages (from Flask>=1.0.4->dash) (2.0.1)\n",
      "Requirement already satisfied: Jinja2>=3.0 in /opt/conda/lib/python3.9/site-packages (from Flask>=1.0.4->dash) (3.0.1)\n",
      "Requirement already satisfied: itsdangerous>=2.0 in /opt/conda/lib/python3.9/site-packages (from Flask>=1.0.4->dash) (2.0.1)\n",
      "Requirement already satisfied: MarkupSafe>=2.0 in /opt/conda/lib/python3.9/site-packages (from Jinja2>=3.0->Flask>=1.0.4->dash) (2.0.1)\n",
      "Requirement already satisfied: six in /opt/conda/lib/python3.9/site-packages (from plotly>=5.0.0->dash) (1.16.0)\n",
      "Requirement already satisfied: tenacity>=6.2.0 in /opt/conda/lib/python3.9/site-packages (from plotly>=5.0.0->dash) (8.0.1)\n",
      "Requirement already satisfied: brotli in /opt/conda/lib/python3.9/site-packages (from flask-compress->dash) (1.0.9)\n",
      "Requirement already satisfied: ipython-sql in /opt/conda/lib/python3.9/site-packages (0.4.0)\n",
      "Requirement already satisfied: ipython>=1.0 in /opt/conda/lib/python3.9/site-packages (from ipython-sql) (7.23.1)\n",
      "Requirement already satisfied: six in /opt/conda/lib/python3.9/site-packages (from ipython-sql) (1.16.0)\n",
      "Requirement already satisfied: ipython-genutils>=0.1.0 in /opt/conda/lib/python3.9/site-packages (from ipython-sql) (0.2.0)\n",
      "Requirement already satisfied: sqlalchemy>=0.6.7 in /opt/conda/lib/python3.9/site-packages (from ipython-sql) (1.3.9)\n",
      "Requirement already satisfied: sqlparse in /opt/conda/lib/python3.9/site-packages (from ipython-sql) (0.4.1)\n",
      "Requirement already satisfied: prettytable<1 in /opt/conda/lib/python3.9/site-packages (from ipython-sql) (0.7.2)\n",
      "Requirement already satisfied: matplotlib-inline in /opt/conda/lib/python3.9/site-packages (from ipython>=1.0->ipython-sql) (0.1.2)\n",
      "Requirement already satisfied: setuptools>=18.5 in /opt/conda/lib/python3.9/site-packages (from ipython>=1.0->ipython-sql) (49.6.0.post20210108)\n",
      "Requirement already satisfied: jedi>=0.16 in /opt/conda/lib/python3.9/site-packages (from ipython>=1.0->ipython-sql) (0.18.0)\n",
      "Requirement already satisfied: pexpect>4.3 in /opt/conda/lib/python3.9/site-packages (from ipython>=1.0->ipython-sql) (4.8.0)\n",
      "Requirement already satisfied: traitlets>=4.2 in /opt/conda/lib/python3.9/site-packages (from ipython>=1.0->ipython-sql) (5.0.5)\n",
      "Requirement already satisfied: prompt-toolkit!=3.0.0,!=3.0.1,<3.1.0,>=2.0.0 in /opt/conda/lib/python3.9/site-packages (from ipython>=1.0->ipython-sql) (3.0.18)\n",
      "Requirement already satisfied: backcall in /opt/conda/lib/python3.9/site-packages (from ipython>=1.0->ipython-sql) (0.2.0)\n",
      "Requirement already satisfied: decorator in /opt/conda/lib/python3.9/site-packages (from ipython>=1.0->ipython-sql) (5.0.9)\n",
      "Requirement already satisfied: pickleshare in /opt/conda/lib/python3.9/site-packages (from ipython>=1.0->ipython-sql) (0.7.5)\n",
      "Requirement already satisfied: pygments in /opt/conda/lib/python3.9/site-packages (from ipython>=1.0->ipython-sql) (2.9.0)\n",
      "Requirement already satisfied: parso<0.9.0,>=0.8.0 in /opt/conda/lib/python3.9/site-packages (from jedi>=0.16->ipython>=1.0->ipython-sql) (0.8.2)\n",
      "Requirement already satisfied: ptyprocess>=0.5 in /opt/conda/lib/python3.9/site-packages (from pexpect>4.3->ipython>=1.0->ipython-sql) (0.7.0)\n",
      "Requirement already satisfied: wcwidth in /opt/conda/lib/python3.9/site-packages (from prompt-toolkit!=3.0.0,!=3.0.1,<3.1.0,>=2.0.0->ipython>=1.0->ipython-sql) (0.2.5)\n",
      "Requirement already satisfied: psycopg2-binary in /opt/conda/lib/python3.9/site-packages (2.9.1)\n",
      "Requirement already satisfied: pandas in /opt/conda/lib/python3.9/site-packages (1.2.4)\n",
      "Requirement already satisfied: python-dateutil>=2.7.3 in /opt/conda/lib/python3.9/site-packages (from pandas) (2.8.1)\n",
      "Requirement already satisfied: pytz>=2017.3 in /opt/conda/lib/python3.9/site-packages (from pandas) (2021.1)\n",
      "Requirement already satisfied: numpy>=1.16.5 in /opt/conda/lib/python3.9/site-packages (from pandas) (1.20.3)\n",
      "Requirement already satisfied: six>=1.5 in /opt/conda/lib/python3.9/site-packages (from python-dateutil>=2.7.3->pandas) (1.16.0)\n",
      "Requirement already satisfied: numpy in /opt/conda/lib/python3.9/site-packages (1.20.3)\n",
      "Requirement already satisfied: numpy in /opt/conda/lib/python3.9/site-packages (1.20.3)\n",
      "Requirement already satisfied: matplotlib in /opt/conda/lib/python3.9/site-packages (3.4.2)\n",
      "Requirement already satisfied: pillow>=6.2.0 in /opt/conda/lib/python3.9/site-packages (from matplotlib) (8.2.0)\n",
      "Requirement already satisfied: kiwisolver>=1.0.1 in /opt/conda/lib/python3.9/site-packages (from matplotlib) (1.3.1)\n",
      "Requirement already satisfied: cycler>=0.10 in /opt/conda/lib/python3.9/site-packages (from matplotlib) (0.10.0)\n",
      "Requirement already satisfied: pyparsing>=2.2.1 in /opt/conda/lib/python3.9/site-packages (from matplotlib) (2.4.7)\n",
      "Requirement already satisfied: python-dateutil>=2.7 in /opt/conda/lib/python3.9/site-packages (from matplotlib) (2.8.1)\n",
      "Requirement already satisfied: six in /opt/conda/lib/python3.9/site-packages (from cycler>=0.10->matplotlib) (1.16.0)\n",
      "Requirement already satisfied: folium in /opt/conda/lib/python3.9/site-packages (0.12.1)\n",
      "Requirement already satisfied: jinja2>=2.9 in /opt/conda/lib/python3.9/site-packages (from folium) (3.0.1)\n",
      "Requirement already satisfied: numpy in /opt/conda/lib/python3.9/site-packages (from folium) (1.20.3)\n",
      "Requirement already satisfied: branca>=0.3.0 in /opt/conda/lib/python3.9/site-packages (from folium) (0.4.2)\n",
      "Requirement already satisfied: requests in /opt/conda/lib/python3.9/site-packages (from folium) (2.25.1)\n",
      "Requirement already satisfied: MarkupSafe>=2.0 in /opt/conda/lib/python3.9/site-packages (from jinja2>=2.9->folium) (2.0.1)\n",
      "Requirement already satisfied: chardet<5,>=3.0.2 in /opt/conda/lib/python3.9/site-packages (from requests->folium) (4.0.0)\n",
      "Requirement already satisfied: certifi>=2017.4.17 in /opt/conda/lib/python3.9/site-packages (from requests->folium) (2020.12.5)\n",
      "Requirement already satisfied: idna<3,>=2.5 in /opt/conda/lib/python3.9/site-packages (from requests->folium) (2.10)\n",
      "Requirement already satisfied: urllib3<1.27,>=1.21.1 in /opt/conda/lib/python3.9/site-packages (from requests->folium) (1.26.4)\n",
      "Requirement already satisfied: geojson in /opt/conda/lib/python3.9/site-packages (2.5.0)\n",
      "Requirement already satisfied: jobspy in /opt/conda/lib/python3.9/site-packages (0.28.1)\n",
      "Requirement already satisfied: redis>=3.0.0 in /opt/conda/lib/python3.9/site-packages (from jobspy) (3.5.3)\n",
      "Requirement already satisfied: dash-bootstrap-components in /opt/conda/lib/python3.9/site-packages (0.13.1)\n",
      "Requirement already satisfied: dash>=1.9.0 in /opt/conda/lib/python3.9/site-packages (from dash-bootstrap-components) (2.0.0)\n",
      "Requirement already satisfied: flask-compress in /opt/conda/lib/python3.9/site-packages (from dash>=1.9.0->dash-bootstrap-components) (1.10.1)\n",
      "Requirement already satisfied: dash-html-components==2.0.0 in /opt/conda/lib/python3.9/site-packages (from dash>=1.9.0->dash-bootstrap-components) (2.0.0)\n",
      "Requirement already satisfied: plotly>=5.0.0 in /opt/conda/lib/python3.9/site-packages (from dash>=1.9.0->dash-bootstrap-components) (5.2.1)\n",
      "Requirement already satisfied: dash-table==5.0.0 in /opt/conda/lib/python3.9/site-packages (from dash>=1.9.0->dash-bootstrap-components) (5.0.0)\n",
      "Requirement already satisfied: dash-core-components==2.0.0 in /opt/conda/lib/python3.9/site-packages (from dash>=1.9.0->dash-bootstrap-components) (2.0.0)\n",
      "Requirement already satisfied: Flask>=1.0.4 in /opt/conda/lib/python3.9/site-packages (from dash>=1.9.0->dash-bootstrap-components) (2.0.1)\n"
     ]
    },
    {
     "name": "stdout",
     "output_type": "stream",
     "text": [
      "Requirement already satisfied: itsdangerous>=2.0 in /opt/conda/lib/python3.9/site-packages (from Flask>=1.0.4->dash>=1.9.0->dash-bootstrap-components) (2.0.1)\r\n",
      "Requirement already satisfied: Werkzeug>=2.0 in /opt/conda/lib/python3.9/site-packages (from Flask>=1.0.4->dash>=1.9.0->dash-bootstrap-components) (2.0.1)\r\n",
      "Requirement already satisfied: Jinja2>=3.0 in /opt/conda/lib/python3.9/site-packages (from Flask>=1.0.4->dash>=1.9.0->dash-bootstrap-components) (3.0.1)\r\n",
      "Requirement already satisfied: click>=7.1.2 in /opt/conda/lib/python3.9/site-packages (from Flask>=1.0.4->dash>=1.9.0->dash-bootstrap-components) (7.1.2)\r\n",
      "Requirement already satisfied: MarkupSafe>=2.0 in /opt/conda/lib/python3.9/site-packages (from Jinja2>=3.0->Flask>=1.0.4->dash>=1.9.0->dash-bootstrap-components) (2.0.1)\r\n",
      "Requirement already satisfied: six in /opt/conda/lib/python3.9/site-packages (from plotly>=5.0.0->dash>=1.9.0->dash-bootstrap-components) (1.16.0)\r\n",
      "Requirement already satisfied: tenacity>=6.2.0 in /opt/conda/lib/python3.9/site-packages (from plotly>=5.0.0->dash>=1.9.0->dash-bootstrap-components) (8.0.1)\r\n",
      "Requirement already satisfied: brotli in /opt/conda/lib/python3.9/site-packages (from flask-compress->dash>=1.9.0->dash-bootstrap-components) (1.0.9)\r\n"
     ]
    }
   ],
   "source": [
    "!pip install dash\n",
    "!pip install ipython-sql\n",
    "!pip install psycopg2-binary\n",
    "!pip install pandas\n",
    "!pip install numpy\n",
    "!pip install numpy matplotlib\n",
    "!pip install folium\n",
    "!pip install geojson\n",
    "!pip install jobspy\n",
    "!pip install dash-bootstrap-components"
   ]
  },
  {
   "cell_type": "code",
   "execution_count": 2,
   "id": "67c7a3dd",
   "metadata": {},
   "outputs": [
    {
     "name": "stderr",
     "output_type": "stream",
     "text": [
      "<ipython-input-2-284909b32e1d>:15: UserWarning: \n",
      "The dash_html_components package is deprecated. Please replace\n",
      "`import dash_html_components as html` with `from dash import html`\n",
      "  import dash_html_components as html\n",
      "<ipython-input-2-284909b32e1d>:16: UserWarning: \n",
      "The dash_core_components package is deprecated. Please replace\n",
      "`import dash_core_components as dcc` with `from dash import dcc`\n",
      "  import dash_core_components as dcc\n"
     ]
    }
   ],
   "source": [
    "import numpy as np\n",
    "import pandas as pd\n",
    "import psycopg2\n",
    "import pandas.io.sql as sqlio\n",
    "import matplotlib.pyplot as plt\n",
    "import pylab as pl\n",
    "import folium\n",
    "import json\n",
    "import os\n",
    "from folium import plugins\n",
    "%matplotlib inline\n",
    "\n",
    "import plotly.graph_objects as go\n",
    "import dash\n",
    "import dash_html_components as html\n",
    "import dash_core_components as dcc\n",
    "from dash.dependencies import Input, Output, State\n",
    "import plotly.express as px\n",
    "import dash_bootstrap_components as dbc\n",
    "import dash_core_components as dcc"
   ]
  },
  {
   "cell_type": "code",
   "execution_count": 3,
   "id": "5778887d",
   "metadata": {},
   "outputs": [],
   "source": [
    "with open('Data_to_Otomoto.json') as file:\n",
    "    Data_to_Otomoto = json.loads(file.read())\n",
    "car_brand = Data_to_Otomoto[\"car_brand\"]\n",
    "options = Data_to_Otomoto[\"options\"]"
   ]
  },
  {
   "cell_type": "code",
   "execution_count": 4,
   "id": "32b878c7",
   "metadata": {},
   "outputs": [],
   "source": [
    "psql = psycopg2.connect(host='192.168.10.163', port='5432', database='Otomoto', user='barto', password='biznes')"
   ]
  },
  {
   "cell_type": "code",
   "execution_count": 5,
   "id": "d729d2c1",
   "metadata": {},
   "outputs": [],
   "source": [
    "cur = psql.cursor()\n",
    "sql_otomoto = \"SELECT * FROM otomoto_10;\"\n",
    "dat_otomoto = sqlio.read_sql_query(sql_otomoto, psql)\n",
    "conn = None"
   ]
  },
  {
   "cell_type": "code",
   "execution_count": 6,
   "id": "90c64034",
   "metadata": {},
   "outputs": [],
   "source": [
    "car_loc = dat_otomoto[[\"latitude\",\"longitude\",\"cena\",\"marka_pojazdu\"]]"
   ]
  },
  {
   "cell_type": "code",
   "execution_count": 7,
   "id": "a6c71d01",
   "metadata": {},
   "outputs": [
    {
     "name": "stdout",
     "output_type": "stream",
     "text": [
      "Drop rows where Nan from table otomoto:  2218\n"
     ]
    }
   ],
   "source": [
    "a = 0\n",
    "for index, row in car_loc.iterrows():\n",
    "    if (np.isnan(car_loc.at[index,'latitude']) or np.isnan(car_loc.at[index,'longitude']) \n",
    "    or np.isnan(car_loc.at[index,'cena'])):\n",
    "        car_loc = car_loc.drop([index])\n",
    "        a += 1\n",
    "print(\"Drop rows where Nan from table otomoto: \", a)\n"
   ]
  },
  {
   "cell_type": "code",
   "execution_count": 8,
   "id": "1cc31839",
   "metadata": {},
   "outputs": [],
   "source": [
    "car_loc = car_loc.reset_index(drop=True)"
   ]
  },
  {
   "cell_type": "code",
   "execution_count": 9,
   "id": "5f98b979",
   "metadata": {},
   "outputs": [],
   "source": [
    "car_loc = car_loc.sample(n=1000)\n",
    "car_loc = car_loc.reset_index(drop=True)\n"
   ]
  },
  {
   "cell_type": "code",
   "execution_count": 10,
   "id": "a1a58654",
   "metadata": {},
   "outputs": [],
   "source": [
    "def world_new():    \n",
    "    my_world = folium.Map(\n",
    "    zoom_start=6,\n",
    "    location=[51.9194, 19.1451], prefer_canvas=True)\n",
    "    my_world = plugins.MarkerCluster().add_to(my_world)\n",
    "    return my_world "
   ]
  },
  {
   "cell_type": "code",
   "execution_count": 11,
   "id": "235ac62d",
   "metadata": {},
   "outputs": [],
   "source": [
    "max_value_price = car_loc[\"cena\"].max()\n",
    "min_value_price = car_loc[\"cena\"].min()\n",
    "car_loc_coll=car_loc"
   ]
  },
  {
   "cell_type": "code",
   "execution_count": 12,
   "id": "2262da25",
   "metadata": {},
   "outputs": [
    {
     "name": "stdout",
     "output_type": "stream",
     "text": [
      "Dash is running on http://0.0.0.0:8050/\n",
      "\n",
      " * Serving Flask app '__main__' (lazy loading)\n",
      " * Environment: production\n",
      "\u001b[31m   WARNING: This is a development server. Do not use it in a production deployment.\u001b[0m\n",
      "\u001b[2m   Use a production WSGI server instead.\u001b[0m\n",
      " * Debug mode: off\n"
     ]
    },
    {
     "name": "stderr",
     "output_type": "stream",
     "text": [
      " * Running on all addresses.\n",
      "   WARNING: This is a development server. Do not use it in a production deployment.\n",
      " * Running on http://172.17.0.2:8050/ (Press CTRL+C to quit)\n",
      "192.168.10.1 - - [23/Oct/2021 15:08:50] \"GET / HTTP/1.1\" 200 -\n",
      "192.168.10.1 - - [23/Oct/2021 15:08:51] \"\u001b[36mGET /assets/stylesheet.css?m=1634978237.7411335 HTTP/1.1\u001b[0m\" 304 -\n",
      "192.168.10.1 - - [23/Oct/2021 15:08:52] \"GET /_dash-layout HTTP/1.1\" 200 -\n",
      "192.168.10.1 - - [23/Oct/2021 15:08:52] \"GET /_dash-dependencies HTTP/1.1\" 200 -\n",
      "192.168.10.1 - - [23/Oct/2021 15:08:52] \"GET /_favicon.ico?v=2.0.0 HTTP/1.1\" 200 -\n",
      "192.168.10.1 - - [23/Oct/2021 15:08:54] \"GET /_dash-component-suites/dash/dcc/async-dropdown.js HTTP/1.1\" 200 -\n",
      "192.168.10.1 - - [23/Oct/2021 15:08:55] \"POST /_dash-update-component HTTP/1.1\" 200 -\n",
      "<ipython-input-12-3a78f9781e51>:64: UserWarning:\n",
      "\n",
      "Boolean Series key will be reindexed to match DataFrame index.\n",
      "\n",
      "192.168.10.1 - - [23/Oct/2021 15:08:56] \"POST /_dash-update-component HTTP/1.1\" 200 -\n",
      "192.168.10.1 - - [23/Oct/2021 15:08:56] \"GET /_dash-component-suites/dash/dcc/async-graph.js HTTP/1.1\" 200 -\n",
      "192.168.10.1 - - [23/Oct/2021 15:08:56] \"GET /_dash-component-suites/dash/dcc/async-plotlyjs.js HTTP/1.1\" 200 -\n",
      "192.168.10.1 - - [23/Oct/2021 15:12:10] \"GET /_favicon.ico?v=2.0.0 HTTP/1.1\" 200 -\n",
      "192.168.10.1 - - [23/Oct/2021 15:15:39] \"GET / HTTP/1.1\" 200 -\n",
      "192.168.10.1 - - [23/Oct/2021 15:15:40] \"\u001b[36mGET /assets/stylesheet.css?m=1634978237.7411335 HTTP/1.1\u001b[0m\" 304 -\n",
      "192.168.10.1 - - [23/Oct/2021 15:15:42] \"GET /_dash-layout HTTP/1.1\" 200 -\n",
      "192.168.10.1 - - [23/Oct/2021 15:15:42] \"GET /_dash-dependencies HTTP/1.1\" 200 -\n",
      "192.168.10.1 - - [23/Oct/2021 15:15:42] \"GET /_favicon.ico?v=2.0.0 HTTP/1.1\" 200 -\n",
      "192.168.10.1 - - [23/Oct/2021 15:15:42] \"GET /_dash-component-suites/dash/dcc/async-dropdown.js HTTP/1.1\" 200 -\n",
      "192.168.10.1 - - [23/Oct/2021 15:15:43] \"POST /_dash-update-component HTTP/1.1\" 200 -\n",
      "192.168.10.1 - - [23/Oct/2021 15:15:43] \"GET /_dash-component-suites/dash/dcc/async-graph.js HTTP/1.1\" 200 -\n",
      "192.168.10.1 - - [23/Oct/2021 15:15:43] \"GET /_dash-component-suites/dash/dcc/async-plotlyjs.js HTTP/1.1\" 200 -\n",
      "<ipython-input-12-3a78f9781e51>:64: UserWarning:\n",
      "\n",
      "Boolean Series key will be reindexed to match DataFrame index.\n",
      "\n",
      "192.168.10.1 - - [23/Oct/2021 15:15:44] \"POST /_dash-update-component HTTP/1.1\" 200 -\n",
      "192.168.10.1 - - [23/Oct/2021 15:15:56] \"GET /_favicon.ico?v=2.0.0 HTTP/1.1\" 200 -\n",
      "<ipython-input-12-3a78f9781e51>:64: UserWarning:\n",
      "\n",
      "Boolean Series key will be reindexed to match DataFrame index.\n",
      "\n",
      "192.168.10.1 - - [23/Oct/2021 15:19:06] \"POST /_dash-update-component HTTP/1.1\" 200 -\n",
      "192.168.10.1 - - [23/Oct/2021 17:06:45] \"GET / HTTP/1.1\" 200 -\n",
      "192.168.10.1 - - [23/Oct/2021 17:06:45] \"\u001b[36mGET /assets/stylesheet.css?m=1634978237.7411335 HTTP/1.1\u001b[0m\" 304 -\n",
      "192.168.10.1 - - [23/Oct/2021 17:06:46] \"GET /_dash-layout HTTP/1.1\" 200 -\n",
      "192.168.10.1 - - [23/Oct/2021 17:06:46] \"GET /_dash-dependencies HTTP/1.1\" 200 -\n",
      "192.168.10.1 - - [23/Oct/2021 17:06:46] \"GET /_favicon.ico?v=2.0.0 HTTP/1.1\" 200 -\n",
      "192.168.10.1 - - [23/Oct/2021 17:06:47] \"POST /_dash-update-component HTTP/1.1\" 200 -\n",
      "192.168.10.1 - - [23/Oct/2021 17:06:47] \"GET /_dash-component-suites/dash/dcc/async-dropdown.js HTTP/1.1\" 200 -\n",
      "192.168.10.1 - - [23/Oct/2021 17:06:47] \"GET /_dash-component-suites/dash/dcc/async-plotlyjs.js HTTP/1.1\" 200 -\n",
      "<ipython-input-12-3a78f9781e51>:64: UserWarning:\n",
      "\n",
      "Boolean Series key will be reindexed to match DataFrame index.\n",
      "\n",
      "192.168.10.1 - - [23/Oct/2021 17:06:47] \"POST /_dash-update-component HTTP/1.1\" 200 -\n",
      "192.168.10.1 - - [23/Oct/2021 17:06:47] \"GET /_dash-component-suites/dash/dcc/async-graph.js HTTP/1.1\" 200 -\n"
     ]
    }
   ],
   "source": [
    "app = dash.Dash(__name__,external_stylesheets=[dbc.themes.LITERA])\n",
    "\n",
    "app.layout = html.Div(children=[\n",
    "dbc.Row(\n",
    "    dbc.Col(html.H1('Cars for sell in Otomoto',style={'textAlign': 'center','front-size' :50}))),\n",
    "dbc.Row(children=[\n",
    "    dbc.Col(html.Iframe(id = 'map', srcDoc = world_new().get_root().render(),\n",
    "                width = '100%',height = '100%', className='map'),\n",
    "            width=8, lg={'size': 8,'order': 'first'}),\n",
    "    dbc.Col(style={'text-align': 'center'}, children=[\n",
    "    dcc.Input(id=\"Price_MIN\", type=\"number\", placeholder=\"Price_MIN\", value=1000, className='cell'),\n",
    "    dcc.Input(id=\"Price_MAX\", type=\"number\", placeholder=\"Price_MAX\", value=1000000, className='cell'),\n",
    "    html.Button(id='max-button', n_clicks=0, children=\"MAX\",\n",
    "                   className='button-max'),\n",
    "    dcc.Dropdown(id='brand_dropdown',\n",
    "    options=options,\n",
    "\n",
    "    optionHeight=35,                    \n",
    "    value=['Ferrari','Lamborghini','Bentley'],                 \n",
    "    disabled=False,         \n",
    "    multi=True,                       \n",
    "    searchable=True,               \n",
    "    search_value='',                \n",
    "    placeholder='Please select...',   \n",
    "    clearable=True, \n",
    "    className='dropdown',         \n",
    "    ),\n",
    "        \n",
    "    html.Button(id='my-button', n_clicks=0, children=\"Update\", className='button-update'),\n",
    "    html.Br(),\n",
    "    html.Div(id='total_rows'),\n",
    "    html.Br(),  \n",
    "    dcc.Graph(id=\"fig\")], width=8, lg={'size': 4, 'order': 'last'})])\n",
    "    ])\n",
    "\n",
    "\n",
    "\n",
    "\n",
    "@app.callback(\n",
    "    [dash.dependencies.Output('map', 'srcDoc'),\n",
    "     dash.dependencies.Output('total_rows', 'children'),\n",
    "     dash.dependencies.Output('fig', 'figure')],\n",
    "    [dash.dependencies.State('Price_MIN', 'value'),\n",
    "     dash.dependencies.State('Price_MAX', 'value'),\n",
    "     dash.dependencies.State('brand_dropdown', 'value')],\n",
    "    [dash.dependencies.Input('my-button', 'n_clicks')]\n",
    "    )\n",
    "    \n",
    "def Rent_Price_Limiter(Price_MIN, Price_MAX, brand, n_clicks):\n",
    "\n",
    "    car_loc_limit = car_loc.sort_values(by=['marka_pojazdu'])\n",
    "    car_loc_limit = car_loc_limit.reset_index(drop=True)\n",
    "     \n",
    "    for row in range(len(car_loc_limit.index)):\n",
    "        if car_loc_limit.at[row,'marka_pojazdu'] in brand:\n",
    "            pass\n",
    "        else:\n",
    "            car_loc_limit = car_loc_limit.drop([row])\n",
    "    \n",
    "    car_loc_limit = car_loc_limit.reset_index(drop=True)\n",
    "    \n",
    "    my_world = world_new()\n",
    "    \n",
    "    car_loc_limit = car_loc_limit[car_loc.cena.between(Price_MIN, Price_MAX, inclusive=False)]\n",
    "    car_loc_limit = car_loc_limit.reset_index(drop=True)\n",
    "    \n",
    "    for row in range(len(car_loc_limit.index)):\n",
    "        folium.CircleMarker(\n",
    "            location=[car_loc_limit.at[row,'latitude'], car_loc_limit.at[row,'longitude']],\n",
    "            radius=3,\n",
    "            popup='Price: ' + str(car_loc_limit.at[row,'cena']) + '<br>' +str(car_loc_limit.at[row,'marka_pojazdu']) ,\n",
    "            color='red',\n",
    "            fill=True,\n",
    "            fill_color='red',\n",
    "            fill_opacity=1\n",
    "        ).add_to(my_world)\n",
    "\n",
    "    html_string = my_world.get_root().render()\n",
    "    \n",
    "    total_rows = len(car_loc_limit.index)\n",
    "    \n",
    "    pie_data = car_loc_limit['marka_pojazdu'].value_counts()\n",
    "    pie_data = pie_data.to_frame()\n",
    "    pie_data.reset_index(inplace=True)\n",
    "    \n",
    "    fig = go.Figure(data=[go.Pie(labels=pie_data['index'], values=pie_data['marka_pojazdu'], textinfo='none')])\n",
    "    \n",
    "    return html_string, total_rows, fig\n",
    "\n",
    "@app.callback(\n",
    "    [dash.dependencies.Output('Price_MIN', 'value'),\n",
    "     dash.dependencies.Output('Price_MAX', 'value')],\n",
    "    [dash.dependencies.Input('max-button', 'n_clicks')]\n",
    "    )\n",
    "\n",
    "def give_max(n_clicks_price_sell):     \n",
    "    return min_value_price, max_value_price\n",
    "\n",
    "\n",
    "if __name__ == '__main__':\n",
    "    app.run_server(host='0.0.0.0')"
   ]
  }
 ],
 "metadata": {
  "kernelspec": {
   "display_name": "Python 3",
   "language": "python",
   "name": "python3"
  },
  "language_info": {
   "codemirror_mode": {
    "name": "ipython",
    "version": 3
   },
   "file_extension": ".py",
   "mimetype": "text/x-python",
   "name": "python",
   "nbconvert_exporter": "python",
   "pygments_lexer": "ipython3",
   "version": "3.9.2"
  }
 },
 "nbformat": 4,
 "nbformat_minor": 5
}
