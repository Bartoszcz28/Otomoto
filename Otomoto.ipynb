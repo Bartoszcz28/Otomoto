{
 "cells": [
  {
   "cell_type": "code",
   "execution_count": 1,
   "id": "d2ea2f2a",
   "metadata": {},
   "outputs": [
    {
     "name": "stdout",
     "output_type": "stream",
     "text": [
      "Requirement already satisfied: pandas in /opt/conda/lib/python3.9/site-packages (1.2.4)\n",
      "Requirement already satisfied: python-dateutil>=2.7.3 in /opt/conda/lib/python3.9/site-packages (from pandas) (2.8.1)\n",
      "Requirement already satisfied: pytz>=2017.3 in /opt/conda/lib/python3.9/site-packages (from pandas) (2021.1)\n",
      "Requirement already satisfied: numpy>=1.16.5 in /opt/conda/lib/python3.9/site-packages (from pandas) (1.20.3)\n",
      "Requirement already satisfied: six>=1.5 in /opt/conda/lib/python3.9/site-packages (from python-dateutil>=2.7.3->pandas) (1.16.0)\n",
      "Requirement already satisfied: requests in /opt/conda/lib/python3.9/site-packages (2.25.1)\n",
      "Requirement already satisfied: urllib3<1.27,>=1.21.1 in /opt/conda/lib/python3.9/site-packages (from requests) (1.26.4)\n",
      "Requirement already satisfied: certifi>=2017.4.17 in /opt/conda/lib/python3.9/site-packages (from requests) (2020.12.5)\n",
      "Requirement already satisfied: chardet<5,>=3.0.2 in /opt/conda/lib/python3.9/site-packages (from requests) (4.0.0)\n",
      "Requirement already satisfied: idna<3,>=2.5 in /opt/conda/lib/python3.9/site-packages (from requests) (2.10)\n",
      "Requirement already satisfied: bs4 in /opt/conda/lib/python3.9/site-packages (0.0.1)\n",
      "Requirement already satisfied: beautifulsoup4 in /opt/conda/lib/python3.9/site-packages (from bs4) (4.9.3)\n",
      "Requirement already satisfied: soupsieve>1.2 in /opt/conda/lib/python3.9/site-packages (from beautifulsoup4->bs4) (2.0.1)\n",
      "Requirement already satisfied: plotly in /opt/conda/lib/python3.9/site-packages (5.1.0)\n",
      "Requirement already satisfied: tenacity>=6.2.0 in /opt/conda/lib/python3.9/site-packages (from plotly) (8.0.1)\n",
      "Requirement already satisfied: six in /opt/conda/lib/python3.9/site-packages (from plotly) (1.16.0)\n",
      "Requirement already satisfied: numpy in /opt/conda/lib/python3.9/site-packages (1.20.3)\n",
      "Requirement already satisfied: geopy in /opt/conda/lib/python3.9/site-packages (2.2.0)\n",
      "Requirement already satisfied: geographiclib<2,>=1.49 in /opt/conda/lib/python3.9/site-packages (from geopy) (1.52)\n",
      "Requirement already satisfied: html5lib in /opt/conda/lib/python3.9/site-packages (1.1)\n",
      "Requirement already satisfied: six>=1.9 in /opt/conda/lib/python3.9/site-packages (from html5lib) (1.16.0)\n",
      "Requirement already satisfied: webencodings in /opt/conda/lib/python3.9/site-packages (from html5lib) (0.5.1)\n",
      "Requirement already satisfied: sqlalchemy==1.3.9 in /opt/conda/lib/python3.9/site-packages (1.3.9)\n",
      "Requirement already satisfied: ipython-sql in /opt/conda/lib/python3.9/site-packages (0.4.0)\n",
      "Requirement already satisfied: six in /opt/conda/lib/python3.9/site-packages (from ipython-sql) (1.16.0)\n",
      "Requirement already satisfied: sqlparse in /opt/conda/lib/python3.9/site-packages (from ipython-sql) (0.4.1)\n",
      "Requirement already satisfied: prettytable<1 in /opt/conda/lib/python3.9/site-packages (from ipython-sql) (0.7.2)\n",
      "Requirement already satisfied: ipython-genutils>=0.1.0 in /opt/conda/lib/python3.9/site-packages (from ipython-sql) (0.2.0)\n",
      "Requirement already satisfied: ipython>=1.0 in /opt/conda/lib/python3.9/site-packages (from ipython-sql) (7.23.1)\n",
      "Requirement already satisfied: sqlalchemy>=0.6.7 in /opt/conda/lib/python3.9/site-packages (from ipython-sql) (1.3.9)\n",
      "Requirement already satisfied: setuptools>=18.5 in /opt/conda/lib/python3.9/site-packages (from ipython>=1.0->ipython-sql) (49.6.0.post20210108)\n",
      "Requirement already satisfied: decorator in /opt/conda/lib/python3.9/site-packages (from ipython>=1.0->ipython-sql) (5.0.9)\n",
      "Requirement already satisfied: pickleshare in /opt/conda/lib/python3.9/site-packages (from ipython>=1.0->ipython-sql) (0.7.5)\n",
      "Requirement already satisfied: backcall in /opt/conda/lib/python3.9/site-packages (from ipython>=1.0->ipython-sql) (0.2.0)\n",
      "Requirement already satisfied: traitlets>=4.2 in /opt/conda/lib/python3.9/site-packages (from ipython>=1.0->ipython-sql) (5.0.5)\n",
      "Requirement already satisfied: jedi>=0.16 in /opt/conda/lib/python3.9/site-packages (from ipython>=1.0->ipython-sql) (0.18.0)\n",
      "Requirement already satisfied: matplotlib-inline in /opt/conda/lib/python3.9/site-packages (from ipython>=1.0->ipython-sql) (0.1.2)\n",
      "Requirement already satisfied: prompt-toolkit!=3.0.0,!=3.0.1,<3.1.0,>=2.0.0 in /opt/conda/lib/python3.9/site-packages (from ipython>=1.0->ipython-sql) (3.0.18)\n",
      "Requirement already satisfied: pexpect>4.3 in /opt/conda/lib/python3.9/site-packages (from ipython>=1.0->ipython-sql) (4.8.0)\n",
      "Requirement already satisfied: pygments in /opt/conda/lib/python3.9/site-packages (from ipython>=1.0->ipython-sql) (2.9.0)\n",
      "Requirement already satisfied: parso<0.9.0,>=0.8.0 in /opt/conda/lib/python3.9/site-packages (from jedi>=0.16->ipython>=1.0->ipython-sql) (0.8.2)\n",
      "Requirement already satisfied: ptyprocess>=0.5 in /opt/conda/lib/python3.9/site-packages (from pexpect>4.3->ipython>=1.0->ipython-sql) (0.7.0)\n",
      "Requirement already satisfied: wcwidth in /opt/conda/lib/python3.9/site-packages (from prompt-toolkit!=3.0.0,!=3.0.1,<3.1.0,>=2.0.0->ipython>=1.0->ipython-sql) (0.2.5)\n",
      "Requirement already satisfied: psycopg2-binary in /opt/conda/lib/python3.9/site-packages (2.9.1)\n"
     ]
    }
   ],
   "source": [
    "!pip install pandas\n",
    "!pip install requests\n",
    "!pip install bs4\n",
    "!pip install plotly\n",
    "!pip install numpy\n",
    "!pip install geopy\n",
    "!pip install html5lib\n",
    "!pip install sqlalchemy==1.3.9\n",
    "!pip install ipython-sql\n",
    "!pip install psycopg2-binary"
   ]
  },
  {
   "cell_type": "code",
   "execution_count": 2,
   "id": "aa79468c",
   "metadata": {},
   "outputs": [],
   "source": [
    "import yfinance as yf\n",
    "import pandas as pd\n",
    "import numpy as np\n",
    "import requests\n",
    "from bs4 import BeautifulSoup\n",
    "import plotly.graph_objects as go\n",
    "from plotly.subplots import make_subplots\n",
    "from IPython.display import clear_output\n",
    "from geopy.extra.rate_limiter import RateLimiter\n",
    "from geopy.geocoders import Nominatim\n",
    "import html5lib\n",
    "import psycopg2"
   ]
  },
  {
   "cell_type": "code",
   "execution_count": 3,
   "id": "696887c9",
   "metadata": {},
   "outputs": [],
   "source": [
    "html_data = requests.get(\"https://www.otomoto.pl/oferta/bmw-m5-600km-m5-individual-kolor-carbon-pakiet-ceramiczne-hamulce-salon-pl-ID6DQdad.html\")\n",
    "soup = BeautifulSoup(html_data.content, 'html5lib')"
   ]
  },
  {
   "cell_type": "code",
   "execution_count": 4,
   "id": "6763d91c",
   "metadata": {},
   "outputs": [
    {
     "name": "stdout",
     "output_type": "stream",
     "text": [
      "4.57\n"
     ]
    }
   ],
   "source": [
    "eur = 4.57\n",
    "print(eur)\n"
   ]
  },
  {
   "cell_type": "code",
   "execution_count": 5,
   "id": "bf3028d7",
   "metadata": {
    "scrolled": true
   },
   "outputs": [],
   "source": [
    "def get_price(soup):\n",
    "    price = soup.find('span',attrs={\"class\":\"offer-price__number\"}).text\n",
    "    price = price.replace(\" \",\"\")\n",
    "    if \"PLN\" in price:\n",
    "        price = price.replace(\"PLN\",\"\")\n",
    "        price = float(price)\n",
    "    elif \"EUR\" in price:\n",
    "        price = price.replace(\"EUR\",\"\")\n",
    "        price = float(price)\n",
    "        price = price * eur\n",
    "    else:\n",
    "        price = None\n",
    "    return price"
   ]
  },
  {
   "cell_type": "code",
   "execution_count": 6,
   "id": "f074885a",
   "metadata": {},
   "outputs": [],
   "source": [
    "def take_id(soup):\n",
    "    ID = soup.find('div',attrs={\"class\":\"offer-content__metabar\"})\n",
    "    ID = ID.find('div')\n",
    "    ID = ID.find('span',attrs={\"id\":\"ad_id\"}).text\n",
    "    return ID"
   ]
  },
  {
   "cell_type": "code",
   "execution_count": 7,
   "id": "b1d17cc2",
   "metadata": {},
   "outputs": [],
   "source": [
    "def take_details(soup):\n",
    "    details = {}    \n",
    "    for info in soup.find_all('li',attrs={\"class\":\"offer-params__item\"}):\n",
    "        key = info.find('span').text.strip()\n",
    "        value = info.find('div').text.strip()\n",
    "        details[key] = value\n",
    "    return details"
   ]
  },
  {
   "cell_type": "code",
   "execution_count": 8,
   "id": "dbf42de9",
   "metadata": {},
   "outputs": [],
   "source": [
    "def take_all(soup):\n",
    "    dict_all = {}\n",
    "    dict_all[\"ID\"] = take_id(soup)\n",
    "    dict_all[\"price\"] = get_price(soup)\n",
    "    details = take_details(soup)\n",
    "    return dict_all | details"
   ]
  },
  {
   "cell_type": "code",
   "execution_count": 9,
   "id": "92e68267",
   "metadata": {},
   "outputs": [],
   "source": [
    "def data_clean(details):\n",
    "    try:\n",
    "        details['Przebieg'] = details['Przebieg'].replace(\" km\",\"\").replace(\" \",\"\")\n",
    "    except:\n",
    "        pass\n",
    "    try:\n",
    "        details['Moc'] = details['Moc'].replace(\" KM\",\"\")\n",
    "    except:\n",
    "        pass\n",
    "    try:\n",
    "        details['Pojemność skokowa'] = details['Pojemność skokowa'].replace(\" cm3\",\"\").replace(\" \",\"\").replace(\",\",\".\")\n",
    "    except:\n",
    "        pass\n",
    "    try:\n",
    "        details['Spalanie W Mieście'] = details['Spalanie W Mieście\t'].replace(\"l/100km\",\"\").replace(\" \",\"\").replace(\",\",\".\")\n",
    "    except:\n",
    "        pass\n",
    "    try:\n",
    "        details['Spalanie W Cyklu Mieszanym'] = details['Spalanie W Cyklu Mieszanym'].replace(\"l/100km\",\"\").replace(\" \",\"\").replace(\",\",\".\")\n",
    "    except:\n",
    "        pass\n",
    "    try:\n",
    "        details['Spalanie Poza Miastem'] = details['Spalanie Poza Miastem'].replace(\"l/100km\",\"\").replace(\" \",\"\").replace(\",\",\".\")\n",
    "    except:\n",
    "        pass\n",
    "    return details"
   ]
  },
  {
   "cell_type": "code",
   "execution_count": 10,
   "id": "7e01355b",
   "metadata": {},
   "outputs": [],
   "source": [
    "car_brand = [\n",
    "  \"Abarth\",\n",
    "  \"Alfa Romeo\",\n",
    "  \"Aston Martin\",\n",
    "  \"Audi\",\n",
    "  \"Bentley\",\n",
    "  \"BMW\",\n",
    "  \"Bugatti\",\n",
    "  \"Cadillac\",\n",
    "  \"Chevrolet\",\n",
    "  \"Chrysler\",\n",
    "  \"Citroën\",\n",
    "  \"Dacia\",\n",
    "  \"Daewoo\",\n",
    "  \"Daihatsu\",\n",
    "  \"Dodge\",\n",
    "  \"Donkervoort\",\n",
    "  \"DS\",\n",
    "  \"Ferrari\",\n",
    "  \"Fiat\",\n",
    "  \"Fisker\",\n",
    "  \"Ford\",\n",
    "  \"Honda\",\n",
    "  \"Hummer\",\n",
    "  \"Hyundai\",\n",
    "  \"Infiniti\",\n",
    "  \"Iveco\",\n",
    "  \"Jaguar\",\n",
    "  \"Jeep\",\n",
    "  \"Kia\",\n",
    "  \"KTM\",\n",
    "  \"Lada\",\n",
    "  \"Lamborghini\",\n",
    "  \"Lancia\",\n",
    "  \"Land Rover\",\n",
    "  \"Landwind\",\n",
    "  \"Lexus\",\n",
    "  \"Lotus\",\n",
    "  \"Maserati\",\n",
    "  \"Maybach\",\n",
    "  \"Mazda\",\n",
    "  \"McLaren\",\n",
    "  \"Mercedes-Benz\",\n",
    "  \"MG\",\n",
    "  \"Mini\",\n",
    "  \"Mitsubishi\",\n",
    "  \"Morgan\",\n",
    "  \"Nissan\",\n",
    "  \"Opel\",\n",
    "  \"Peugeot\",\n",
    "  \"Porsche\",\n",
    "  \"Renault\",\n",
    "  \"Rolls-Royce\",\n",
    "  \"Rover\",\n",
    "  \"Saab\",\n",
    "  \"Seat\",\n",
    "  \"Skoda\",\n",
    "  \"Smart\",\n",
    "  \"SsangYong\",\n",
    "  \"Subaru\",\n",
    "  \"Suzuki\",\n",
    "  \"Tesla\",\n",
    "  \"Toyota\",\n",
    "  \"Volkswagen\",\n",
    "  \"Volvo\"\n",
    "]"
   ]
  },
  {
   "cell_type": "code",
   "execution_count": null,
   "id": "f9d40049",
   "metadata": {},
   "outputs": [
    {
     "name": "stdout",
     "output_type": "stream",
     "text": [
      "Read_announcements  1320\n"
     ]
    }
   ],
   "source": [
    "Link_ERROR = 0\n",
    "Read_announcements = 0\n",
    "new_row = {}\n",
    "all_data = []\n",
    "for brand in car_brand:\n",
    "    brand_link = f\"https://www.otomoto.pl/osobowe/{brand}/?search%5Border%5D=created_at%3Adesc&page=\"\n",
    "    for page_main in range(1,3): \n",
    "        try:\n",
    "            html_data_link = requests.get(brand_link + str(page_main))\n",
    "            soup_url = BeautifulSoup(html_data_link.content, 'html5lib')\n",
    "        except Exception:\n",
    "            print(\"Link_ERROR\")\n",
    "            continue\n",
    "        links = []\n",
    "        for offer in soup_url.find_all('a',attrs={\"class\":\"offer-title__link\"}):\n",
    "            if \"https://www.otomoto.pl\" in offer['href']:\n",
    "                links.append(offer['href']) \n",
    "        for page in links:\n",
    "            html_data = requests.get(page)\n",
    "            soup = BeautifulSoup(html_data.content, 'html5lib')\n",
    "            dict_all = take_all(soup)\n",
    "            dict_all = data_clean(dict_all)\n",
    "            all_data.append(dict_all)\n",
    "            Read_announcements += 1\n",
    "            clear_output(wait=True)\n",
    "            print(\"Read_announcements \", Read_announcements)\n",
    "table_cars = pd.DataFrame.from_dict(all_data, orient='columns')\n",
    "delete_duplicates = Read_announcements - len(table_cars.index) \n",
    "print(\"Delete duplicates: \", delete_duplicates)\n",
    "print(\"Finish\")"
   ]
  },
  {
   "cell_type": "code",
   "execution_count": null,
   "id": "b373ba8d",
   "metadata": {},
   "outputs": [],
   "source": [
    "page_link = brand_link + str(page_main)\n",
    "print(page_link)"
   ]
  },
  {
   "cell_type": "code",
   "execution_count": null,
   "id": "76fe311b",
   "metadata": {},
   "outputs": [],
   "source": [
    "print(brand_link,page_main)"
   ]
  },
  {
   "cell_type": "code",
   "execution_count": null,
   "id": "b68e034c",
   "metadata": {},
   "outputs": [],
   "source": [
    "#GIT\n",
    "# Link_ERROR = 0\n",
    "# Read_announcements = 0\n",
    "# new_row = {}\n",
    "# all_data = []\n",
    "# for page_main in range(1,2):  \n",
    "#     try:\n",
    "#         html_data_link = requests.get(f\"https://www.otomoto.pl/osobowe/?search%5Border%5D=created_at%3Adesc&page={page_main}\")\n",
    "#         soup_url = BeautifulSoup(html_data_link.content, 'html5lib')\n",
    "#     except Exception:\n",
    "#         print(\"Link_ERROR\")\n",
    "#         continue\n",
    "#     links = []\n",
    "#     for offer in soup_url.find_all('a',attrs={\"class\":\"offer-title__link\"}):\n",
    "#         if \"https://www.otomoto.pl\" in offer['href']:\n",
    "#             links.append(offer['href']) \n",
    "#     for page in links:\n",
    "#         html_data = requests.get(page)\n",
    "#         soup = BeautifulSoup(html_data.content, 'html5lib')\n",
    "#         dict_all = take_all(soup)\n",
    "#         dict_all = data_clean(dict_all)\n",
    "#         all_data.append(dict_all)\n",
    "#         Read_announcements += 1\n",
    "#         clear_output(wait=True)\n",
    "#         print(\"Read_announcements \", Read_announcements)\n",
    "# table_cars = pd.DataFrame.from_dict(all_data, orient='columns')\n",
    "# delete_duplicates = Read_announcements - len(table_cars.index) \n",
    "# print(\"Delete duplicates: \", delete_duplicates)\n",
    "# print(\"Finish\")"
   ]
  },
  {
   "cell_type": "code",
   "execution_count": null,
   "id": "43a2d54d",
   "metadata": {},
   "outputs": [],
   "source": [
    "table_cars.head()"
   ]
  },
  {
   "cell_type": "code",
   "execution_count": null,
   "id": "1d29165c",
   "metadata": {},
   "outputs": [],
   "source": [
    "table_name = 'Otomoto'"
   ]
  },
  {
   "cell_type": "code",
   "execution_count": null,
   "id": "dee39c41",
   "metadata": {},
   "outputs": [],
   "source": [
    "table_cars.to_csv (table_name +'.csv', index = False, header=True)"
   ]
  },
  {
   "cell_type": "code",
   "execution_count": null,
   "id": "dffd1414",
   "metadata": {},
   "outputs": [],
   "source": [
    "psql = psycopg2.connect(host='192.168.10.163', port='5432', database='Otomoto', user='barto', password='biznes')\n",
    "cur = psql.cursor()"
   ]
  },
  {
   "cell_type": "code",
   "execution_count": null,
   "id": "a4cfd67c",
   "metadata": {},
   "outputs": [],
   "source": [
    "cur.execute('DROP TABLE IF EXISTS '+ table_name)\n",
    "createTableCommand = 'CREATE TABLE ' + table_name + '''(ID int NOT NULL,\n",
    "    Oferta od VARCHAR,\n",
    "    Kategoria VARCHAR,\n",
    "    Marka pojazdu VARCHAR,\n",
    "    Model pojazdu VARCHAR,\n",
    "    Wersja VARCHAR,\n",
    "    Generacja VARCHAR,\n",
    "    Rok produkcji INT,\n",
    "    Przebieg,\n",
    "    Pojemność skokowa,\n",
    "    Rodzaj paliwa VARCHAR,\n",
    "    Moc,\n",
    "    Skrzynia biegów VARCHAR,\n",
    "    Napęd VARCHAR,\n",
    "    Typ nadwozia VARCHAR,\n",
    "    Emisja CO2,\n",
    "    Liczba drzwi,\n",
    "    Liczba miejsc,\n",
    "    Kolor VARCHAR,\n",
    "    Rodzaj koloru VARCHAR,\n",
    "    VAT marża VARCHAR,\n",
    "    Zarejestrowany w Polsce VARCHAR,\n",
    "    Pierwszy właściciel VARCHAR,\n",
    "    Bezwypadkowy VARCHAR,\n",
    "    Stan VARCHAR,\n",
    "    Kraj pochodzenia VARCHAR,\n",
    "    Pierwsza rejestracja,\n",
    "    Serwisowany w ASO,\n",
    "    Możliwość finansowania,\n",
    "    Faktura VAT,\n",
    "    Okres gwarancji producenta,\n",
    "    Spalanie W Mieście,\n",
    "    Numer rejestracyjny pojazdu,\n",
    "    Leasing,\n",
    "    Filtr cząstek stałych,\n",
    "    Spalanie W Cyklu Mieszanym,\n",
    "    Spalanie Poza Miastem,\n",
    "    Uszkodzony,\n",
    "    Gwarancja dealerska (w cenie),\n",
    "    Miesięczna rata,\n",
    "    PRIMARY KEY (ID)\n",
    "    )'''\n",
    "cur.execute(createTableCommand)\n",
    "psql.commit()"
   ]
  },
  {
   "cell_type": "code",
   "execution_count": null,
   "id": "4490b0ab",
   "metadata": {},
   "outputs": [],
   "source": []
  }
 ],
 "metadata": {
  "kernelspec": {
   "display_name": "Python 3",
   "language": "python",
   "name": "python3"
  },
  "language_info": {
   "codemirror_mode": {
    "name": "ipython",
    "version": 3
   },
   "file_extension": ".py",
   "mimetype": "text/x-python",
   "name": "python",
   "nbconvert_exporter": "python",
   "pygments_lexer": "ipython3",
   "version": "3.9.2"
  }
 },
 "nbformat": 4,
 "nbformat_minor": 5
}
