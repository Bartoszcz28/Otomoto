{
 "cells": [
  {
   "cell_type": "code",
   "execution_count": 1,
   "id": "d2ea2f2a",
   "metadata": {},
   "outputs": [
    {
     "name": "stdout",
     "output_type": "stream",
     "text": [
      "Requirement already satisfied: pandas in /opt/conda/lib/python3.9/site-packages (1.2.4)\n",
      "Requirement already satisfied: python-dateutil>=2.7.3 in /opt/conda/lib/python3.9/site-packages (from pandas) (2.8.1)\n",
      "Requirement already satisfied: pytz>=2017.3 in /opt/conda/lib/python3.9/site-packages (from pandas) (2021.1)\n",
      "Requirement already satisfied: numpy>=1.16.5 in /opt/conda/lib/python3.9/site-packages (from pandas) (1.20.3)\n",
      "Requirement already satisfied: six>=1.5 in /opt/conda/lib/python3.9/site-packages (from python-dateutil>=2.7.3->pandas) (1.16.0)\n",
      "Requirement already satisfied: requests in /opt/conda/lib/python3.9/site-packages (2.25.1)\n",
      "Requirement already satisfied: certifi>=2017.4.17 in /opt/conda/lib/python3.9/site-packages (from requests) (2020.12.5)\n",
      "Requirement already satisfied: urllib3<1.27,>=1.21.1 in /opt/conda/lib/python3.9/site-packages (from requests) (1.26.4)\n",
      "Requirement already satisfied: chardet<5,>=3.0.2 in /opt/conda/lib/python3.9/site-packages (from requests) (4.0.0)\n",
      "Requirement already satisfied: idna<3,>=2.5 in /opt/conda/lib/python3.9/site-packages (from requests) (2.10)\n",
      "Requirement already satisfied: bs4 in /opt/conda/lib/python3.9/site-packages (0.0.1)\n",
      "Requirement already satisfied: beautifulsoup4 in /opt/conda/lib/python3.9/site-packages (from bs4) (4.9.3)\n",
      "Requirement already satisfied: soupsieve>1.2 in /opt/conda/lib/python3.9/site-packages (from beautifulsoup4->bs4) (2.0.1)\n",
      "Requirement already satisfied: plotly in /opt/conda/lib/python3.9/site-packages (5.1.0)\n",
      "Requirement already satisfied: tenacity>=6.2.0 in /opt/conda/lib/python3.9/site-packages (from plotly) (8.0.1)\n",
      "Requirement already satisfied: six in /opt/conda/lib/python3.9/site-packages (from plotly) (1.16.0)\n",
      "Requirement already satisfied: numpy in /opt/conda/lib/python3.9/site-packages (1.20.3)\n",
      "Requirement already satisfied: geopy in /opt/conda/lib/python3.9/site-packages (2.2.0)\n",
      "Requirement already satisfied: geographiclib<2,>=1.49 in /opt/conda/lib/python3.9/site-packages (from geopy) (1.52)\n",
      "Requirement already satisfied: html5lib in /opt/conda/lib/python3.9/site-packages (1.1)\n",
      "Requirement already satisfied: six>=1.9 in /opt/conda/lib/python3.9/site-packages (from html5lib) (1.16.0)\n",
      "Requirement already satisfied: webencodings in /opt/conda/lib/python3.9/site-packages (from html5lib) (0.5.1)\n",
      "Requirement already satisfied: sqlalchemy==1.3.9 in /opt/conda/lib/python3.9/site-packages (1.3.9)\n",
      "Requirement already satisfied: ipython-sql in /opt/conda/lib/python3.9/site-packages (0.4.0)\n",
      "Requirement already satisfied: sqlalchemy>=0.6.7 in /opt/conda/lib/python3.9/site-packages (from ipython-sql) (1.3.9)\n",
      "Requirement already satisfied: ipython-genutils>=0.1.0 in /opt/conda/lib/python3.9/site-packages (from ipython-sql) (0.2.0)\n",
      "Requirement already satisfied: six in /opt/conda/lib/python3.9/site-packages (from ipython-sql) (1.16.0)\n",
      "Requirement already satisfied: ipython>=1.0 in /opt/conda/lib/python3.9/site-packages (from ipython-sql) (7.23.1)\n",
      "Requirement already satisfied: sqlparse in /opt/conda/lib/python3.9/site-packages (from ipython-sql) (0.4.1)\n",
      "Requirement already satisfied: prettytable<1 in /opt/conda/lib/python3.9/site-packages (from ipython-sql) (0.7.2)\n",
      "Requirement already satisfied: traitlets>=4.2 in /opt/conda/lib/python3.9/site-packages (from ipython>=1.0->ipython-sql) (5.0.5)\n",
      "Requirement already satisfied: prompt-toolkit!=3.0.0,!=3.0.1,<3.1.0,>=2.0.0 in /opt/conda/lib/python3.9/site-packages (from ipython>=1.0->ipython-sql) (3.0.18)\n",
      "Requirement already satisfied: setuptools>=18.5 in /opt/conda/lib/python3.9/site-packages (from ipython>=1.0->ipython-sql) (49.6.0.post20210108)\n",
      "Requirement already satisfied: pickleshare in /opt/conda/lib/python3.9/site-packages (from ipython>=1.0->ipython-sql) (0.7.5)\n",
      "Requirement already satisfied: pexpect>4.3 in /opt/conda/lib/python3.9/site-packages (from ipython>=1.0->ipython-sql) (4.8.0)\n",
      "Requirement already satisfied: decorator in /opt/conda/lib/python3.9/site-packages (from ipython>=1.0->ipython-sql) (5.0.9)\n",
      "Requirement already satisfied: jedi>=0.16 in /opt/conda/lib/python3.9/site-packages (from ipython>=1.0->ipython-sql) (0.18.0)\n",
      "Requirement already satisfied: matplotlib-inline in /opt/conda/lib/python3.9/site-packages (from ipython>=1.0->ipython-sql) (0.1.2)\n",
      "Requirement already satisfied: backcall in /opt/conda/lib/python3.9/site-packages (from ipython>=1.0->ipython-sql) (0.2.0)\n",
      "Requirement already satisfied: pygments in /opt/conda/lib/python3.9/site-packages (from ipython>=1.0->ipython-sql) (2.9.0)\n",
      "Requirement already satisfied: parso<0.9.0,>=0.8.0 in /opt/conda/lib/python3.9/site-packages (from jedi>=0.16->ipython>=1.0->ipython-sql) (0.8.2)\n",
      "Requirement already satisfied: ptyprocess>=0.5 in /opt/conda/lib/python3.9/site-packages (from pexpect>4.3->ipython>=1.0->ipython-sql) (0.7.0)\n",
      "Requirement already satisfied: wcwidth in /opt/conda/lib/python3.9/site-packages (from prompt-toolkit!=3.0.0,!=3.0.1,<3.1.0,>=2.0.0->ipython>=1.0->ipython-sql) (0.2.5)\n",
      "Requirement already satisfied: psycopg2-binary in /opt/conda/lib/python3.9/site-packages (2.9.1)\n"
     ]
    }
   ],
   "source": [
    "!pip install pandas\n",
    "!pip install requests\n",
    "!pip install bs4\n",
    "!pip install plotly\n",
    "!pip install numpy\n",
    "!pip install geopy\n",
    "!pip install html5lib\n",
    "!pip install sqlalchemy==1.3.9\n",
    "!pip install ipython-sql\n",
    "!pip install psycopg2-binary"
   ]
  },
  {
   "cell_type": "code",
   "execution_count": 2,
   "id": "aa79468c",
   "metadata": {},
   "outputs": [],
   "source": [
    "import yfinance as yf\n",
    "import pandas as pd\n",
    "import numpy as np\n",
    "import requests\n",
    "from bs4 import BeautifulSoup\n",
    "import plotly.graph_objects as go\n",
    "from plotly.subplots import make_subplots\n",
    "from IPython.display import clear_output\n",
    "from geopy.extra.rate_limiter import RateLimiter\n",
    "from geopy.geocoders import Nominatim\n",
    "import html5lib\n",
    "import psycopg2"
   ]
  },
  {
   "cell_type": "code",
   "execution_count": 3,
   "id": "696887c9",
   "metadata": {},
   "outputs": [],
   "source": [
    "html_data = requests.get(\"https://www.otomoto.pl/oferta/bmw-m5-600km-m5-individual-kolor-carbon-pakiet-ceramiczne-hamulce-salon-pl-ID6DQdad.html\")\n",
    "soup = BeautifulSoup(html_data.content, 'html5lib')"
   ]
  },
  {
   "cell_type": "code",
   "execution_count": 4,
   "id": "6763d91c",
   "metadata": {},
   "outputs": [
    {
     "name": "stdout",
     "output_type": "stream",
     "text": [
      "4.57\n"
     ]
    }
   ],
   "source": [
    "eur = 4.57\n",
    "print(eur)\n"
   ]
  },
  {
   "cell_type": "code",
   "execution_count": 5,
   "id": "bf3028d7",
   "metadata": {
    "scrolled": true
   },
   "outputs": [],
   "source": [
    "def get_data(link):\n",
    "    price = soup.find('span',attrs={\"class\":\"offer-price__number\"}).text\n",
    "    price = price.replace(\" \",\"\")\n",
    "    if \"PLN\" in price:\n",
    "        price = price.replace(\"PLN\",\"\")\n",
    "        price = float(price)\n",
    "    elif \"EUR\" in price:\n",
    "        price = price.replace(\"EUR\",\"\")\n",
    "        price = float(price)\n",
    "        price = price * eur\n",
    "    else:\n",
    "        price = None\n",
    "    print(price)"
   ]
  },
  {
   "cell_type": "code",
   "execution_count": 6,
   "id": "ac7ff1d1",
   "metadata": {},
   "outputs": [
    {
     "name": "stdout",
     "output_type": "stream",
     "text": [
      "649900.0\n"
     ]
    }
   ],
   "source": [
    "price = soup.find('span',attrs={\"class\":\"offer-price__number\"}).text\n",
    "price = price.replace(\" \",\"\")\n",
    "if \"PLN\" in price:\n",
    "    price = price.replace(\"PLN\",\"\")\n",
    "    price = float(price)\n",
    "elif \"EUR\" in price:\n",
    "    price = price.replace(\"EUR\",\"\")\n",
    "    price = float(price)\n",
    "    price = price * eur\n",
    "else:\n",
    "    price = None\n",
    "print(price)\n"
   ]
  },
  {
   "cell_type": "code",
   "execution_count": 7,
   "id": "f074885a",
   "metadata": {},
   "outputs": [
    {
     "name": "stdout",
     "output_type": "stream",
     "text": [
      "6085517757\n"
     ]
    }
   ],
   "source": [
    "ID = soup.find('div',attrs={\"class\":\"offer-content__metabar\"})\n",
    "ID = ID.find('div')\n",
    "ID = ID.find('span',attrs={\"id\":\"ad_id\"}).text\n",
    "print(ID)"
   ]
  },
  {
   "cell_type": "code",
   "execution_count": 8,
   "id": "4c911f74",
   "metadata": {},
   "outputs": [],
   "source": [
    "ID = soup.find('div',attrs={\"class\":\"offer-content__metabar\"})"
   ]
  },
  {
   "cell_type": "code",
   "execution_count": 9,
   "id": "b1d17cc2",
   "metadata": {},
   "outputs": [],
   "source": [
    "def take_details(soup):\n",
    "    details = {}\n",
    "    for info in soup.find_all('li',attrs={\"class\":\"offer-params__item\"}):\n",
    "        key = info.find('span').text.strip()\n",
    "        value = info.find('div').text.strip()\n",
    "        details[key] = value\n",
    "    return details"
   ]
  },
  {
   "cell_type": "code",
   "execution_count": 10,
   "id": "11d45468",
   "metadata": {},
   "outputs": [
    {
     "data": {
      "text/plain": [
       "{'Oferta od': 'Firmy',\n",
       " 'Kategoria': 'Osobowe',\n",
       " 'Marka pojazdu': 'BMW',\n",
       " 'Model pojazdu': 'M5',\n",
       " 'Rok produkcji': '2021',\n",
       " 'Przebieg': '10 000 km',\n",
       " 'Pojemność skokowa': '4 395 cm3',\n",
       " 'Rodzaj paliwa': 'Benzyna',\n",
       " 'Moc': '600 KM',\n",
       " 'Skrzynia biegów': 'Automatyczna',\n",
       " 'Napęd': '4x4 (dołączany automatycznie)',\n",
       " 'Typ nadwozia': 'Sedan',\n",
       " 'Liczba drzwi': '4',\n",
       " 'Liczba miejsc': '5',\n",
       " 'Kolor': 'Inny kolor',\n",
       " 'Faktura VAT': 'Tak',\n",
       " 'Kraj pochodzenia': 'Polska',\n",
       " 'Pierwsza rejestracja': '16/05/2021',\n",
       " 'Pierwszy właściciel': 'Tak',\n",
       " 'Bezwypadkowy': 'Tak',\n",
       " 'Serwisowany w ASO': 'Tak',\n",
       " 'Stan': 'Używane'}"
      ]
     },
     "execution_count": 10,
     "metadata": {},
     "output_type": "execute_result"
    }
   ],
   "source": [
    "details = take_details(soup)\n",
    "details"
   ]
  },
  {
   "cell_type": "code",
   "execution_count": 11,
   "id": "92e68267",
   "metadata": {},
   "outputs": [],
   "source": [
    "def data_clean(details):\n",
    "    try:\n",
    "        details['Przebieg'] = details['Przebieg'].replace(\" km\",\"\").replace(\" \",\"\")\n",
    "    except:\n",
    "        pass\n",
    "    try:\n",
    "        details['Moc'] = details['Moc'].replace(\" KM\",\"\")\n",
    "    except:\n",
    "        pass\n",
    "    try:\n",
    "        details['Pojemność skokowa'] = details['Pojemność skokowa'].replace(\" cm3\",\"\").replace(\" \",\"\")\n",
    "    except:\n",
    "        pass\n",
    "    #details['lub do (przebieg km)'] = details['lub do (przebieg km)'].replace(\"km\",\"\").replace(\" \",\"\")\n",
    "    return details"
   ]
  },
  {
   "cell_type": "code",
   "execution_count": 12,
   "id": "a3707b52",
   "metadata": {},
   "outputs": [
    {
     "data": {
      "text/plain": [
       "{'Oferta od': 'Firmy',\n",
       " 'Kategoria': 'Osobowe',\n",
       " 'Marka pojazdu': 'BMW',\n",
       " 'Model pojazdu': 'M5',\n",
       " 'Rok produkcji': '2021',\n",
       " 'Przebieg': '10 000 km',\n",
       " 'Pojemność skokowa': '4 395 cm3',\n",
       " 'Rodzaj paliwa': 'Benzyna',\n",
       " 'Moc': '600 KM',\n",
       " 'Skrzynia biegów': 'Automatyczna',\n",
       " 'Napęd': '4x4 (dołączany automatycznie)',\n",
       " 'Typ nadwozia': 'Sedan',\n",
       " 'Liczba drzwi': '4',\n",
       " 'Liczba miejsc': '5',\n",
       " 'Kolor': 'Inny kolor',\n",
       " 'Faktura VAT': 'Tak',\n",
       " 'Kraj pochodzenia': 'Polska',\n",
       " 'Pierwsza rejestracja': '16/05/2021',\n",
       " 'Pierwszy właściciel': 'Tak',\n",
       " 'Bezwypadkowy': 'Tak',\n",
       " 'Serwisowany w ASO': 'Tak',\n",
       " 'Stan': 'Używane'}"
      ]
     },
     "execution_count": 12,
     "metadata": {},
     "output_type": "execute_result"
    }
   ],
   "source": [
    "details"
   ]
  },
  {
   "cell_type": "code",
   "execution_count": 13,
   "id": "e0ed1ff5",
   "metadata": {},
   "outputs": [],
   "source": [
    "# def geturl(url):\n",
    "#     html_data_url = requests.get(url)\n",
    "#     soup_url = BeautifulSoup(html_data_url.content, 'html5lib')\n",
    "#     location = soup.find('a',attrs={\"class\":\"css-1ibwe9h e1nbpvi62\"}).text\n",
    "#     new_row = {}\n",
    "#     for offer in soup_url.find_all('a',attrs={\"class\":\"offer-title__link\"}):\n",
    "#             new_row = offer['href']"
   ]
  },
  {
   "cell_type": "code",
   "execution_count": 14,
   "id": "99574894",
   "metadata": {},
   "outputs": [],
   "source": [
    "html_data_url = requests.get(\"https://www.otomoto.pl/osobowe/\")\n",
    "soup_url = BeautifulSoup(html_data_url.content, 'html5lib')\n",
    "\n",
    "# new_row = {}\n",
    "# for offer in soup_url.find_all('a',attrs={\"class\":\"offer-title__link\"}).find_all('a',attrs={\"class\":\"offer-title__link\"}):\n",
    "#     new_row = get_data(offer['href'])"
   ]
  },
  {
   "cell_type": "code",
   "execution_count": 15,
   "id": "1103e1ab",
   "metadata": {},
   "outputs": [],
   "source": [
    "# links = []\n",
    "# new_row = {}\n",
    "# for offer in soup_url.find_all('a',attrs={\"class\":\"offer-title__link\"}):\n",
    "#     if \"https://www.otomoto.pl\" in offer['href']:\n",
    "#         links.append(offer['href'])\n",
    "# print(links)"
   ]
  },
  {
   "cell_type": "code",
   "execution_count": 16,
   "id": "884c9188",
   "metadata": {},
   "outputs": [],
   "source": [
    "# all_data = []\n",
    "# for page in links:\n",
    "#     html_data = requests.get(page)\n",
    "#     soup = BeautifulSoup(html_data.content, 'html5lib')\n",
    "#     details = take_details(soup)\n",
    "#     details = data_clean(details)\n",
    "#     all_data.append(details)\n",
    "# print(all_data)"
   ]
  },
  {
   "cell_type": "code",
   "execution_count": 17,
   "id": "f8bd3324",
   "metadata": {},
   "outputs": [],
   "source": [
    "# pd.DataFrame.from_dict(all_data, orient='columns')"
   ]
  },
  {
   "cell_type": "code",
   "execution_count": 18,
   "id": "b68e034c",
   "metadata": {},
   "outputs": [
    {
     "name": "stdout",
     "output_type": "stream",
     "text": [
      "Read_announcements  64\n",
      "Delete duplicates:  0\n",
      "Finish\n"
     ]
    }
   ],
   "source": [
    "Link_ERROR = 0\n",
    "Read_announcements = 0\n",
    "new_row = {}\n",
    "all_data = []\n",
    "for page_main in range(1,3):  \n",
    "    try:\n",
    "        html_data_link = requests.get(f\"https://www.otomoto.pl/osobowe/?search%5Border%5D=created_at%3Adesc&page={page_main}\")\n",
    "        soup_url = BeautifulSoup(html_data_link.content, 'html5lib')\n",
    "    except Exception:\n",
    "        print(\"Link_ERROR\")\n",
    "        continue\n",
    "    links = []\n",
    "    for offer in soup_url.find_all('a',attrs={\"class\":\"offer-title__link\"}):\n",
    "        if \"https://www.otomoto.pl\" in offer['href']:\n",
    "            links.append(offer['href']) \n",
    "    for page in links:\n",
    "        html_data = requests.get(page)\n",
    "        soup = BeautifulSoup(html_data.content, 'html5lib')\n",
    "        details = take_details(soup)\n",
    "        details = data_clean(details)\n",
    "        all_data.append(details)\n",
    "        Read_announcements += 1\n",
    "        clear_output(wait=True)\n",
    "        print(\"Read_announcements \", Read_announcements)\n",
    "table_cars = pd.DataFrame.from_dict(all_data, orient='columns')\n",
    "delete_duplicates = Read_announcements - len(table_cars.index) \n",
    "print(\"Delete duplicates: \", delete_duplicates)\n",
    "print(\"Finish\")"
   ]
  },
  {
   "cell_type": "code",
   "execution_count": 19,
   "id": "b6840655",
   "metadata": {},
   "outputs": [
    {
     "data": {
      "text/plain": [
       "'https://www.otomoto.pl/oferta/opel-vivaro-polski-salon-oryginal-sport-na-gwarancji-vat-23-navi-145km-ID6E3ddi.html#14a617a363'"
      ]
     },
     "execution_count": 19,
     "metadata": {},
     "output_type": "execute_result"
    }
   ],
   "source": [
    "links[0]"
   ]
  },
  {
   "cell_type": "code",
   "execution_count": 20,
   "id": "a603d3ba",
   "metadata": {},
   "outputs": [
    {
     "data": {
      "text/plain": [
       "64"
      ]
     },
     "execution_count": 20,
     "metadata": {},
     "output_type": "execute_result"
    }
   ],
   "source": [
    "len(table_cars.index)"
   ]
  },
  {
   "cell_type": "code",
   "execution_count": 21,
   "id": "ad10382f",
   "metadata": {},
   "outputs": [
    {
     "data": {
      "text/plain": [
       "0"
      ]
     },
     "execution_count": 21,
     "metadata": {},
     "output_type": "execute_result"
    }
   ],
   "source": [
    "delete_duplicates = Read_announcements - len(table_cars.index) \n",
    "delete_duplicates"
   ]
  },
  {
   "cell_type": "code",
   "execution_count": 22,
   "id": "31d1f852",
   "metadata": {},
   "outputs": [
    {
     "name": "stdout",
     "output_type": "stream",
     "text": [
      "Read_announcements  64\n"
     ]
    }
   ],
   "source": [
    "print(\"Read_announcements \", Read_announcements)"
   ]
  },
  {
   "cell_type": "code",
   "execution_count": 23,
   "id": "1d29165c",
   "metadata": {},
   "outputs": [],
   "source": [
    "table_name = 'Otomoto'"
   ]
  },
  {
   "cell_type": "code",
   "execution_count": 24,
   "id": "dee39c41",
   "metadata": {},
   "outputs": [],
   "source": [
    "table_cars.to_csv (table_name +'.csv', index = False, header=True)"
   ]
  },
  {
   "cell_type": "code",
   "execution_count": 25,
   "id": "dffd1414",
   "metadata": {},
   "outputs": [],
   "source": [
    "psql = psycopg2.connect(host='192.168.10.163', port='5432', database='Otomoto', user='barto', password='biznes')\n",
    "cur = psql.cursor()"
   ]
  },
  {
   "cell_type": "code",
   "execution_count": 26,
   "id": "84fee839",
   "metadata": {},
   "outputs": [
    {
     "ename": "SyntaxError",
     "evalue": "syntax error at or near \"VARCHAR\"\nLINE 2:     Oferta od VARCHAR,\n                      ^\n",
     "output_type": "error",
     "traceback": [
      "\u001b[0;31m\u001b[0m",
      "\u001b[0;31mSyntaxError\u001b[0mTraceback (most recent call last)",
      "\u001b[0;32m<ipython-input-26-b92124f858b5>\u001b[0m in \u001b[0;36m<module>\u001b[0;34m\u001b[0m\n\u001b[1;32m     42\u001b[0m     \u001b[0mPRIMARY\u001b[0m \u001b[0mKEY\u001b[0m \u001b[0;34m(\u001b[0m\u001b[0mID\u001b[0m\u001b[0;34m)\u001b[0m\u001b[0;34m\u001b[0m\u001b[0;34m\u001b[0m\u001b[0m\n\u001b[1;32m     43\u001b[0m     )'''\n\u001b[0;32m---> 44\u001b[0;31m \u001b[0mcur\u001b[0m\u001b[0;34m.\u001b[0m\u001b[0mexecute\u001b[0m\u001b[0;34m(\u001b[0m\u001b[0mcreateTableCommand\u001b[0m\u001b[0;34m)\u001b[0m\u001b[0;34m\u001b[0m\u001b[0;34m\u001b[0m\u001b[0m\n\u001b[0m\u001b[1;32m     45\u001b[0m \u001b[0mpsql\u001b[0m\u001b[0;34m.\u001b[0m\u001b[0mcommit\u001b[0m\u001b[0;34m(\u001b[0m\u001b[0;34m)\u001b[0m\u001b[0;34m\u001b[0m\u001b[0;34m\u001b[0m\u001b[0m\n",
      "\u001b[0;31mSyntaxError\u001b[0m: syntax error at or near \"VARCHAR\"\nLINE 2:     Oferta od VARCHAR,\n                      ^\n"
     ]
    }
   ],
   "source": [
    "cur.execute('DROP TABLE IF EXISTS '+ table_name)\n",
    "createTableCommand = 'CREATE TABLE ' + table_name + '''(ID int NOT NULL,\n",
    "    Oferta od VARCHAR,\n",
    "    Kategoria VARCHAR,\n",
    "    Marka pojazdu,\n",
    "    Model pojazdu,\n",
    "    Wersja,\n",
    "    Generacja,\n",
    "    Rok produkcji,\n",
    "    Przebieg,\n",
    "    Pojemność skokowa,\n",
    "    Rodzaj paliwa,\n",
    "    Moc,\n",
    "    Skrzynia biegów,\n",
    "    Napęd,\n",
    "    Typ nadwozia,\n",
    "    Emisja CO2,\n",
    "    Liczba drzwi,\n",
    "    Liczba miejsc,\n",
    "    Kolor,\n",
    "    Rodzaj koloru,\n",
    "    VAT marża,\n",
    "    Zarejestrowany w Polsce,\n",
    "    Pierwszy właściciel,\n",
    "    Bezwypadkowy,\n",
    "    Stan,\n",
    "    Kraj pochodzenia,\n",
    "    Pierwsza rejestracja,\n",
    "    Serwisowany w ASO,\n",
    "    Możliwość finansowania,\n",
    "    Faktura VAT,\n",
    "    Okres gwarancji producenta,\n",
    "    Spalanie W Mieście,\n",
    "    Numer rejestracyjny pojazdu,\n",
    "    Leasing,\n",
    "    Filtr cząstek stałych,\n",
    "    Spalanie W Cyklu Mieszanym,\n",
    "    Spalanie Poza Miastem,\n",
    "    Uszkodzony,\n",
    "    Gwarancja dealerska (w cenie),\n",
    "    Miesięczna rata,\n",
    "    PRIMARY KEY (ID)\n",
    "    )'''\n",
    "cur.execute(createTableCommand)\n",
    "psql.commit()"
   ]
  },
  {
   "cell_type": "code",
   "execution_count": null,
   "id": "917a9785",
   "metadata": {},
   "outputs": [],
   "source": []
  }
 ],
 "metadata": {
  "kernelspec": {
   "display_name": "Python 3",
   "language": "python",
   "name": "python3"
  },
  "language_info": {
   "codemirror_mode": {
    "name": "ipython",
    "version": 3
   },
   "file_extension": ".py",
   "mimetype": "text/x-python",
   "name": "python",
   "nbconvert_exporter": "python",
   "pygments_lexer": "ipython3",
   "version": "3.9.2"
  }
 },
 "nbformat": 4,
 "nbformat_minor": 5
}
