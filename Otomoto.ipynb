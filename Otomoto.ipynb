{
 "cells": [
  {
   "cell_type": "code",
   "execution_count": 1,
   "id": "d2ea2f2a",
   "metadata": {},
   "outputs": [
    {
     "name": "stdout",
     "output_type": "stream",
     "text": [
      "Requirement already satisfied: pandas in /opt/conda/lib/python3.9/site-packages (1.2.4)\n",
      "Requirement already satisfied: python-dateutil>=2.7.3 in /opt/conda/lib/python3.9/site-packages (from pandas) (2.8.1)\n",
      "Requirement already satisfied: pytz>=2017.3 in /opt/conda/lib/python3.9/site-packages (from pandas) (2021.1)\n",
      "Requirement already satisfied: numpy>=1.16.5 in /opt/conda/lib/python3.9/site-packages (from pandas) (1.20.3)\n",
      "Requirement already satisfied: six>=1.5 in /opt/conda/lib/python3.9/site-packages (from python-dateutil>=2.7.3->pandas) (1.16.0)\n",
      "Requirement already satisfied: requests in /opt/conda/lib/python3.9/site-packages (2.25.1)\n",
      "Requirement already satisfied: certifi>=2017.4.17 in /opt/conda/lib/python3.9/site-packages (from requests) (2020.12.5)\n",
      "Requirement already satisfied: chardet<5,>=3.0.2 in /opt/conda/lib/python3.9/site-packages (from requests) (4.0.0)\n",
      "Requirement already satisfied: idna<3,>=2.5 in /opt/conda/lib/python3.9/site-packages (from requests) (2.10)\n",
      "Requirement already satisfied: urllib3<1.27,>=1.21.1 in /opt/conda/lib/python3.9/site-packages (from requests) (1.26.4)\n",
      "Requirement already satisfied: bs4 in /opt/conda/lib/python3.9/site-packages (0.0.1)\n",
      "Requirement already satisfied: beautifulsoup4 in /opt/conda/lib/python3.9/site-packages (from bs4) (4.9.3)\n",
      "Requirement already satisfied: soupsieve>1.2 in /opt/conda/lib/python3.9/site-packages (from beautifulsoup4->bs4) (2.0.1)\n",
      "Requirement already satisfied: plotly in /opt/conda/lib/python3.9/site-packages (5.1.0)\n",
      "Requirement already satisfied: tenacity>=6.2.0 in /opt/conda/lib/python3.9/site-packages (from plotly) (8.0.1)\n",
      "Requirement already satisfied: six in /opt/conda/lib/python3.9/site-packages (from plotly) (1.16.0)\n",
      "Requirement already satisfied: numpy in /opt/conda/lib/python3.9/site-packages (1.20.3)\n",
      "Requirement already satisfied: geopy in /opt/conda/lib/python3.9/site-packages (2.2.0)\n",
      "Requirement already satisfied: geographiclib<2,>=1.49 in /opt/conda/lib/python3.9/site-packages (from geopy) (1.52)\n",
      "Requirement already satisfied: html5lib in /opt/conda/lib/python3.9/site-packages (1.1)\n",
      "Requirement already satisfied: six>=1.9 in /opt/conda/lib/python3.9/site-packages (from html5lib) (1.16.0)\n",
      "Requirement already satisfied: webencodings in /opt/conda/lib/python3.9/site-packages (from html5lib) (0.5.1)\n",
      "Requirement already satisfied: sqlalchemy==1.3.9 in /opt/conda/lib/python3.9/site-packages (1.3.9)\n",
      "Requirement already satisfied: ipython-sql in /opt/conda/lib/python3.9/site-packages (0.4.0)\n",
      "Requirement already satisfied: sqlparse in /opt/conda/lib/python3.9/site-packages (from ipython-sql) (0.4.1)\n",
      "Requirement already satisfied: ipython-genutils>=0.1.0 in /opt/conda/lib/python3.9/site-packages (from ipython-sql) (0.2.0)\n",
      "Requirement already satisfied: sqlalchemy>=0.6.7 in /opt/conda/lib/python3.9/site-packages (from ipython-sql) (1.3.9)\n",
      "Requirement already satisfied: ipython>=1.0 in /opt/conda/lib/python3.9/site-packages (from ipython-sql) (7.23.1)\n",
      "Requirement already satisfied: prettytable<1 in /opt/conda/lib/python3.9/site-packages (from ipython-sql) (0.7.2)\n",
      "Requirement already satisfied: six in /opt/conda/lib/python3.9/site-packages (from ipython-sql) (1.16.0)\n",
      "Requirement already satisfied: backcall in /opt/conda/lib/python3.9/site-packages (from ipython>=1.0->ipython-sql) (0.2.0)\n",
      "Requirement already satisfied: pexpect>4.3 in /opt/conda/lib/python3.9/site-packages (from ipython>=1.0->ipython-sql) (4.8.0)\n",
      "Requirement already satisfied: pickleshare in /opt/conda/lib/python3.9/site-packages (from ipython>=1.0->ipython-sql) (0.7.5)\n",
      "Requirement already satisfied: setuptools>=18.5 in /opt/conda/lib/python3.9/site-packages (from ipython>=1.0->ipython-sql) (49.6.0.post20210108)\n",
      "Requirement already satisfied: pygments in /opt/conda/lib/python3.9/site-packages (from ipython>=1.0->ipython-sql) (2.9.0)\n",
      "Requirement already satisfied: matplotlib-inline in /opt/conda/lib/python3.9/site-packages (from ipython>=1.0->ipython-sql) (0.1.2)\n",
      "Requirement already satisfied: traitlets>=4.2 in /opt/conda/lib/python3.9/site-packages (from ipython>=1.0->ipython-sql) (5.0.5)\n",
      "Requirement already satisfied: prompt-toolkit!=3.0.0,!=3.0.1,<3.1.0,>=2.0.0 in /opt/conda/lib/python3.9/site-packages (from ipython>=1.0->ipython-sql) (3.0.18)\n",
      "Requirement already satisfied: jedi>=0.16 in /opt/conda/lib/python3.9/site-packages (from ipython>=1.0->ipython-sql) (0.18.0)\n",
      "Requirement already satisfied: decorator in /opt/conda/lib/python3.9/site-packages (from ipython>=1.0->ipython-sql) (5.0.9)\n",
      "Requirement already satisfied: parso<0.9.0,>=0.8.0 in /opt/conda/lib/python3.9/site-packages (from jedi>=0.16->ipython>=1.0->ipython-sql) (0.8.2)\n",
      "Requirement already satisfied: ptyprocess>=0.5 in /opt/conda/lib/python3.9/site-packages (from pexpect>4.3->ipython>=1.0->ipython-sql) (0.7.0)\n",
      "Requirement already satisfied: wcwidth in /opt/conda/lib/python3.9/site-packages (from prompt-toolkit!=3.0.0,!=3.0.1,<3.1.0,>=2.0.0->ipython>=1.0->ipython-sql) (0.2.5)\n",
      "Requirement already satisfied: psycopg2-binary in /opt/conda/lib/python3.9/site-packages (2.9.1)\n"
     ]
    }
   ],
   "source": [
    "!pip install pandas\n",
    "!pip install requests\n",
    "!pip install bs4\n",
    "!pip install plotly\n",
    "!pip install numpy\n",
    "!pip install geopy\n",
    "!pip install html5lib\n",
    "!pip install sqlalchemy==1.3.9\n",
    "!pip install ipython-sql\n",
    "!pip install psycopg2-binary"
   ]
  },
  {
   "cell_type": "code",
   "execution_count": 2,
   "id": "aa79468c",
   "metadata": {},
   "outputs": [],
   "source": [
    "import yfinance as yf\n",
    "import pandas as pd\n",
    "import numpy as np\n",
    "import requests\n",
    "from bs4 import BeautifulSoup\n",
    "import plotly.graph_objects as go\n",
    "from plotly.subplots import make_subplots\n",
    "from IPython.display import clear_output\n",
    "from geopy.extra.rate_limiter import RateLimiter\n",
    "from geopy.geocoders import Nominatim\n",
    "import html5lib\n",
    "import psycopg2\n",
    "import json"
   ]
  },
  {
   "cell_type": "code",
   "execution_count": 3,
   "id": "5a5f2bef",
   "metadata": {},
   "outputs": [],
   "source": [
    "# load data from json\n",
    "\n",
    "with open('Data_to_Otomoto.json') as file:\n",
    "    Data_to_Otomoto = json.loads(file.read())\n",
    "\n",
    "insert_table = Data_to_Otomoto[\"insert_table\"]\n",
    "car_brand = Data_to_Otomoto[\"car_brand\"]\n",
    "table_cars = Data_to_Otomoto[\"table_cars\"]"
   ]
  },
  {
   "cell_type": "code",
   "execution_count": 4,
   "id": "6ad70d90",
   "metadata": {},
   "outputs": [],
   "source": [
    "insert_table = [\n",
    "    'ID',\n",
    "    'Cena',\n",
    "    'Oferta_od',\n",
    "    'Kategoria',\n",
    "    'Marka_pojazdu',\n",
    "    'Model_pojazdu',\n",
    "    'Rodzaj_paliwa',\n",
    "    'Moc',\n",
    "    'Pojemnosc_skokowa',\n",
    "    'Liczba_drzwi',\n",
    "    'Skrzynia_biegow',\n",
    "    'Wersja',\n",
    "    'Generacja',\n",
    "    'Segment',\n",
    "    'Kolor',\n",
    "    'Przebieg',\n",
    "    'Rok_produkcji',\n",
    "    'Naped',\n",
    "    'Spalanie_W_Miescie',\n",
    "    'Typ_nadwozia',\n",
    "    'Emisja_CO2',\n",
    "    'Liczba_miejsc',\n",
    "    'Rodzaj_koloru',\n",
    "    'Kraj_pochodzenia',\n",
    "    'Pierwszy_wlasciciel',\n",
    "    'Bezwypadkowy',\n",
    "    'Serwisowany_w_ASO',\n",
    "    'Stan',\n",
    "    'VAT_marza',\n",
    "    'Pierwsza_rejestracja',\n",
    "    'Numer_rejestracyjny_pojazdu',\n",
    "    'Zarejestrowany_w_Polsce',\n",
    "    'Filtr_czastek_stalych',\n",
    "    'Tuning',\n",
    "    'Mozliwosc_finansowania',\n",
    "    'Uszkodzony',\n",
    "    'Faktura_VAT',\n",
    "    'Spalanie_W_Cyklu_Mieszanym',\n",
    "    'Spalanie_Poza_Miastem',\n",
    "    'Okres_gwarancji_producenta',\n",
    "    'Leasing',\n",
    "    'Miesieczna_rata',\n",
    "    'lub_do_przebieg_km',\n",
    "    'Gwarancja_dealerska_w_cenie',\n",
    "    'Homologacja_ciezarowa',\n",
    "    'Oplata_poczatkowa',\n",
    "    'Liczba_pozostalych_rat',\n",
    "    'Wartosc_wykupu',\n",
    "    'Kierownica_po_prawej_Anglik',\n",
    "    'Zarejestrowany_jako_zabytek']\n",
    "    "
   ]
  },
  {
   "cell_type": "code",
   "execution_count": 5,
   "id": "696887c9",
   "metadata": {},
   "outputs": [],
   "source": [
    "html_data = requests.get(\"https://www.otomoto.pl/oferta/dacia-duster-prestige-130km-faktura-vat-fabryczna-gwarancja-salon-pl-u-ID6DQcyU.html#7ce9f71ee3\")\n",
    "soup = BeautifulSoup(html_data.content, 'html5lib')"
   ]
  },
  {
   "cell_type": "code",
   "execution_count": 6,
   "id": "6763d91c",
   "metadata": {},
   "outputs": [
    {
     "name": "stdout",
     "output_type": "stream",
     "text": [
      "4.57\n"
     ]
    }
   ],
   "source": [
    "eur = 4.57\n",
    "print(eur)\n"
   ]
  },
  {
   "cell_type": "code",
   "execution_count": 7,
   "id": "bf3028d7",
   "metadata": {
    "scrolled": true
   },
   "outputs": [],
   "source": [
    "def get_price(soup):\n",
    "    Cena = soup.find('span',attrs={\"class\":\"offer-price__number\"}).text\n",
    "    Cena = Cena.replace(\" \",\"\").replace(\",\",\".\")\n",
    "    if \"PLN\" in Cena:\n",
    "        Cena = Cena.replace(\"PLN\",\"\")\n",
    "        Cena = float(Cena)\n",
    "    elif \"EUR\" in Cena:\n",
    "        Cena = Cena.replace(\"EUR\",\"\")\n",
    "        Cena = float(Cena)\n",
    "        Cena = Cena * eur\n",
    "    else:\n",
    "        Cena = np.NaN\n",
    "    return Cena"
   ]
  },
  {
   "cell_type": "code",
   "execution_count": 8,
   "id": "8a4a0022",
   "metadata": {},
   "outputs": [
    {
     "name": "stdout",
     "output_type": "stream",
     "text": [
      "69900.0\n"
     ]
    }
   ],
   "source": [
    "print(get_price(soup))"
   ]
  },
  {
   "cell_type": "code",
   "execution_count": 9,
   "id": "f074885a",
   "metadata": {},
   "outputs": [],
   "source": [
    "def take_id(soup):\n",
    "    ID = soup.find('div',attrs={\"class\":\"offer-content__metabar\"})\n",
    "    ID = ID.find('div')\n",
    "    ID = ID.find('span',attrs={\"id\":\"ad_id\"}).text\n",
    "    return ID"
   ]
  },
  {
   "cell_type": "code",
   "execution_count": 10,
   "id": "b1d17cc2",
   "metadata": {},
   "outputs": [],
   "source": [
    "def take_details(soup):\n",
    "    details = {}    \n",
    "    for info in soup.find_all('li',attrs={\"class\":\"offer-params__item\"}):\n",
    "        key = info.find('span').text.strip().replace(\" \",\"_\").replace(\"(\",\"\").replace(\")\",\"\")\n",
    "        key = key.replace(\"ś\",\"s\").replace(\"ż\",\"z\").replace(\"ó\",\"o\").replace(\"ć\",\"c\").replace(\"ę\",\"e\")\n",
    "        key = key.replace(\"ł\",\"l\").replace(\"ą\",\"a\")\n",
    "        if key in insert_table:\n",
    "            value = info.find('div').text.strip()\n",
    "            details[key] = value\n",
    "    return details"
   ]
  },
  {
   "cell_type": "code",
   "execution_count": 11,
   "id": "2d512ad5",
   "metadata": {},
   "outputs": [],
   "source": [
    "def take_all(soup):\n",
    "    try:\n",
    "        dict_all = {}\n",
    "        dict_all[\"ID\"] = take_id(soup)\n",
    "        dict_all[\"Cena\"] = get_price(soup)\n",
    "        details = take_details(soup)\n",
    "        return dict_all | details\n",
    "    except:\n",
    "        pass"
   ]
  },
  {
   "cell_type": "code",
   "execution_count": 12,
   "id": "92e68267",
   "metadata": {},
   "outputs": [],
   "source": [
    "def data_clean(details):\n",
    "    try:\n",
    "        details['Przebieg'] = details['Przebieg'].replace(\"km\",\"\").replace(\" \",\"\")\n",
    "    except:\n",
    "        pass\n",
    "    try:\n",
    "        details['Moc'] = details['Moc'].replace(\"KM\",\"\").replace(\" \",\"\").replace(\",\",\".\")\n",
    "    except:\n",
    "        pass\n",
    "    try:\n",
    "        details['Pojemnosc_skokowa'] = details['Pojemnosc_skokowa'].replace(\"cm3\",\"\").replace(\" \",\"\").replace(\",\",\".\")\n",
    "    except:\n",
    "        pass\n",
    "    try:\n",
    "        details['Spalanie_W_Miescie'] = details['Spalanie_W_Miescie'].replace(\"l/100km\",\"\").replace(\" \",\"\").replace(\",\",\".\")\n",
    "    except:\n",
    "        pass\n",
    "    try:\n",
    "        details['Spalanie_W_Cyklu_Mieszanym'] = details['Spalanie_W_Cyklu_Mieszanym'].replace(\"l/100km\",\"\").replace(\" \",\"\").replace(\",\",\".\")\n",
    "    except:\n",
    "        pass\n",
    "    try:\n",
    "        details['Spalanie_Poza_Miastem'] = details['Spalanie_Poza_Miastem'].replace(\"l/100km\",\"\").replace(\" \",\"\").replace(\",\",\".\")\n",
    "    except:\n",
    "        pass\n",
    "    try:\n",
    "        details['Emisja_CO2'] = details['Emisja_CO2'].replace(\"g/km\",\"\").replace(\" \",\"\").replace(\",\",\".\")\n",
    "    except:\n",
    "        pass\n",
    "    return details"
   ]
  },
  {
   "cell_type": "code",
   "execution_count": 13,
   "id": "f0d6b047",
   "metadata": {},
   "outputs": [],
   "source": [
    "car_brand = [\n",
    "  \"Abarth\",\n",
    "  \"Alfa Romeo\",\n",
    "  \"Aston Martin\",\n",
    "  \"Audi\",\n",
    "  \"Bentley\",\n",
    "  \"BMW\"\n",
    "#   \"Bugatti\",\n",
    "#   \"Cadillac\",\n",
    "#   \"Chevrolet\",\n",
    "#   \"Chrysler\",\n",
    "#   \"Citroën\",\n",
    "#   \"Dacia\",\n",
    "#   \"Daewoo\",\n",
    "#   \"Daihatsu\",\n",
    "#   \"Dodge\",\n",
    "#   \"Donkervoort\",\n",
    "#   \"DS\",\n",
    "#   \"Ferrari\",\n",
    "#   \"Fiat\",\n",
    "#   \"Fisker\",\n",
    "#   \"Ford\",\n",
    "#   \"Honda\",\n",
    "#   \"Hummer\",\n",
    "#   \"Hyundai\",\n",
    "#   \"Infiniti\",\n",
    "#   \"Iveco\",\n",
    "#   \"Jaguar\",\n",
    "#   \"Jeep\",\n",
    "#   \"Kia\",\n",
    "#   \"KTM\",\n",
    "#   \"Lada\",\n",
    "#   \"Lamborghini\",\n",
    "#   \"Lancia\",\n",
    "#   \"Land Rover\",\n",
    "#   \"Landwind\",\n",
    "#   \"Lexus\",\n",
    "#   \"Lotus\",\n",
    "#   \"Maserati\",\n",
    "#   \"Maybach\",\n",
    "#   \"Mazda\",\n",
    "#   \"McLaren\",\n",
    "#   \"Mercedes-Benz\",\n",
    "#   \"MG\",\n",
    "#   \"Mini\",\n",
    "#   \"Mitsubishi\",\n",
    "#   \"Morgan\",\n",
    "#   \"Nissan\",\n",
    "#   \"Opel\",\n",
    "#   \"Peugeot\",\n",
    "#   \"Porsche\",\n",
    "#   \"Renault\",\n",
    "#   \"Rolls-Royce\",\n",
    "#   \"Rover\",\n",
    "#   \"Saab\",\n",
    "#   \"Seat\",\n",
    "#   \"Skoda\",\n",
    "#   \"Smart\",\n",
    "#   \"SsangYong\",\n",
    "#   \"Subaru\",\n",
    "#   \"Suzuki\",\n",
    "#   \"Tesla\",\n",
    "#   \"Toyota\",\n",
    "#   \"Volkswagen\",\n",
    "#   \"Volvo\"\n",
    "]"
   ]
  },
  {
   "cell_type": "code",
   "execution_count": 14,
   "id": "c0fa9775",
   "metadata": {},
   "outputs": [],
   "source": [
    "# table_cars = {\n",
    "#     'ID': [],\n",
    "#     'Cena': [],\n",
    "#     'Oferta_od': [],\n",
    "#     'Kategoria': [],\n",
    "#     'Marka_pojazdu': [],\n",
    "#     'Model_pojazdu': [],\n",
    "#     'Rodzaj_paliwa': [],\n",
    "#     'Moc': [],\n",
    "#     'Pojemnosc_skokowa': [],\n",
    "#     'Liczba_drzwi': [],\n",
    "#     'Skrzynia_biegow': [],\n",
    "#     'Wersja': [],\n",
    "#     'Generacja': [],\n",
    "#     'Segment': [],\n",
    "#     'Kolor': [],\n",
    "#     'Przebieg': [],\n",
    "#     'Rok_produkcji': [],\n",
    "#     'Naped': [],\n",
    "#     'Spalanie_W_Miescie': [],\n",
    "#     'Typ_nadwozia': [],\n",
    "#     'Emisja_CO2': [],\n",
    "#     'Liczba_miejsc': [],\n",
    "#     'Rodzaj_koloru': [],\n",
    "#     'Kraj_pochodzenia': [],\n",
    "#     'Pierwszy_wlasciciel': [],\n",
    "#     'Bezwypadkowy': [],\n",
    "#     'Serwisowany_w_ASO': [],\n",
    "#     'Stan': [],\n",
    "#     'VAT_marza': [],\n",
    "#     'Pierwsza_rejestracja': [],\n",
    "#     'Numer_rejestracyjny_pojazdu': [],\n",
    "#     'Zarejestrowany_w_Polsce': [],\n",
    "#     'Filtr_czastek_stalych': [],\n",
    "#     'Tuning': [],\n",
    "#     'Mozliwosc_finansowania': [],\n",
    "#     'Uszkodzony': [],\n",
    "#     'Faktura_VAT': [],\n",
    "#     'Spalanie_W_Cyklu_Mieszanym': [],\n",
    "#     'Spalanie_Poza_Miastem': [],\n",
    "#     'Okres_gwarancji_producenta': [],\n",
    "#     'Leasing': [],\n",
    "#     'Miesieczna_rata': [],\n",
    "#     'lub_do_przebieg_km': [],\n",
    "#     'Gwarancja_dealerska_w_cenie': [],\n",
    "#     'Homologacja_ciezarowa': [],\n",
    "#     'Oplata_poczatkowa': [],\n",
    "#     'Liczba_pozostalych_rat': [],\n",
    "#     'Wartosc_wykupu': [],\n",
    "#     'Kierownica_po_prawej_Anglik': [],\n",
    "#     'Zarejestrowany_jako_zabytek': []\n",
    "#     }"
   ]
  },
  {
   "cell_type": "code",
   "execution_count": 15,
   "id": "ba049c49",
   "metadata": {},
   "outputs": [],
   "source": [
    "table_cars = pd.DataFrame(table_cars)"
   ]
  },
  {
   "cell_type": "code",
   "execution_count": null,
   "id": "c4cefeb3",
   "metadata": {},
   "outputs": [
    {
     "name": "stdout",
     "output_type": "stream",
     "text": [
      "Read_announcements  45\n",
      "https://www.otomoto.pl/oferta/volvo-s80-volvo-s80-z-polskiego-salonu-w-doskonalym-stanie-ID6E3Feo.html#7ce9f71ee3\n"
     ]
    }
   ],
   "source": [
    "Link_ERROR = 0\n",
    "Read_announcements = 0\n",
    "new_row = {}\n",
    "all_data = []\n",
    "for brand in car_brand:\n",
    "    brand_link = f\"https://www.otomoto.pl/osobowe/{brand}/?search%5Border%5D=created_at%3Adesc&page=\"\n",
    "    for page_main in range(1,2): \n",
    "        try:\n",
    "            html_data_link = requests.get(brand_link + str(page_main))\n",
    "            soup_url = BeautifulSoup(html_data_link.content, 'html5lib')\n",
    "        except Exception:\n",
    "            print(\"Link_ERROR\")\n",
    "            continue\n",
    "        links = []\n",
    "        for offer in soup_url.find_all('a',attrs={\"class\":\"offer-title__link\"}):\n",
    "            if \"https://www.otomoto.pl\" in offer['href']:\n",
    "                links.append(offer['href']) \n",
    "        for page in links:\n",
    "            print(page)\n",
    "            html_data = requests.get(page)\n",
    "            soup = BeautifulSoup(html_data.content, 'html5lib')\n",
    "            dict_all = take_all(soup)\n",
    "            dict_all = data_clean(dict_all)\n",
    "            if dict_all:\n",
    "                all_data.append(dict_all)\n",
    "            Read_announcements += 1\n",
    "            clear_output(wait=True)\n",
    "            print(\"Read_announcements \", Read_announcements)\n",
    "table_cars = table_cars.append(all_data, ignore_index=True)\n",
    "#table_cars = pd.DataFrame.from_dict(all_data, orient='columns')\n",
    "delete_duplicates = Read_announcements - len(table_cars.index) \n",
    "print(\"Delete duplicates: \", delete_duplicates)\n",
    "print(\"Finish\")"
   ]
  },
  {
   "cell_type": "code",
   "execution_count": null,
   "id": "fc48b063",
   "metadata": {},
   "outputs": [],
   "source": [
    "all_data"
   ]
  },
  {
   "cell_type": "code",
   "execution_count": null,
   "id": "a72be08a",
   "metadata": {},
   "outputs": [],
   "source": [
    "# page_link = brand_link + str(page_main)\n",
    "# print(page_link)"
   ]
  },
  {
   "cell_type": "code",
   "execution_count": null,
   "id": "bd4dfee0",
   "metadata": {},
   "outputs": [],
   "source": [
    "# table_cars = pd.DataFrame.from_dict(all_data, orient='columns')\n",
    "# table_cars.head()"
   ]
  },
  {
   "cell_type": "code",
   "execution_count": null,
   "id": "b68e034c",
   "metadata": {},
   "outputs": [],
   "source": [
    "# #GIT\n",
    "# Link_ERROR = 0\n",
    "# Read_announcements = 0\n",
    "# new_row = {}\n",
    "# all_data = []\n",
    "# for page_main in range(1,4):  \n",
    "#     try:\n",
    "#         html_data_link = requests.get(f\"https://www.otomoto.pl/osobowe/?search%5Border%5D=created_at%3Adesc&page={page_main}\")\n",
    "#         soup_url = BeautifulSoup(html_data_link.content, 'html5lib')\n",
    "#     except Exception:\n",
    "#         print(\"Link_ERROR\")\n",
    "#         continue\n",
    "#     links = []\n",
    "#     for offer in soup_url.find_all('a',attrs={\"class\":\"offer-title__link\"}):\n",
    "#         if \"https://www.otomoto.pl\" in offer['href']:\n",
    "#             links.append(offer['href']) \n",
    "#     for page in links:\n",
    "#         html_data = requests.get(page)\n",
    "#         soup = BeautifulSoup(html_data.content, 'html5lib')\n",
    "#         dict_all = take_all(soup)\n",
    "#         dict_all = data_clean(dict_all)\n",
    "#         all_data.append(dict_all)\n",
    "#         Read_announcements += 1\n",
    "#         clear_output(wait=True)\n",
    "#         print(\"Read_announcements \", Read_announcements)\n",
    "# table_cars = pd.DataFrame.from_dict(all_data, orient='columns')\n",
    "# delete_duplicates = Read_announcements - len(table_cars.index) \n",
    "# print(\"Delete duplicates: \", delete_duplicates)\n",
    "# print(\"Finish\")"
   ]
  },
  {
   "cell_type": "code",
   "execution_count": null,
   "id": "1fbcd7a0",
   "metadata": {},
   "outputs": [],
   "source": [
    "table_cars.head()"
   ]
  },
  {
   "cell_type": "code",
   "execution_count": null,
   "id": "577ce764",
   "metadata": {},
   "outputs": [],
   "source": [
    "for col in table_cars.columns:\n",
    "    print(col)"
   ]
  },
  {
   "cell_type": "code",
   "execution_count": null,
   "id": "fb391e6f",
   "metadata": {},
   "outputs": [],
   "source": [
    "for col in insert_table:\n",
    "    print(col)"
   ]
  },
  {
   "cell_type": "code",
   "execution_count": null,
   "id": "1d29165c",
   "metadata": {},
   "outputs": [],
   "source": [
    "table_name = 'Otomoto'"
   ]
  },
  {
   "cell_type": "code",
   "execution_count": null,
   "id": "dee39c41",
   "metadata": {},
   "outputs": [],
   "source": [
    "table_cars.to_csv (table_name +'.csv', index = False, header=True)"
   ]
  },
  {
   "cell_type": "code",
   "execution_count": null,
   "id": "dffd1414",
   "metadata": {},
   "outputs": [],
   "source": [
    "psql = psycopg2.connect(host='192.168.10.163', port='5432', database='Otomoto', user='barto', password='biznes')"
   ]
  },
  {
   "cell_type": "code",
   "execution_count": null,
   "id": "05a25c64",
   "metadata": {},
   "outputs": [],
   "source": [
    "cur = psql.cursor()"
   ]
  },
  {
   "cell_type": "code",
   "execution_count": null,
   "id": "7754e051",
   "metadata": {},
   "outputs": [],
   "source": [
    "cur.execute('DROP TABLE IF EXISTS '+ table_name)\n",
    "createTableCommand = 'CREATE TABLE ' + table_name + '''(ID float NOT NULL,\n",
    "    Cena float,\n",
    "    Oferta_od VARCHAR,\n",
    "    Kategoria VARCHAR,\n",
    "    Marka_pojazdu VARCHAR,\n",
    "    Model_pojazdu VARCHAR,\n",
    "    Rodzaj_paliwa VARCHAR,\n",
    "    Moc float,\n",
    "    Pojemnosc_skokowa float,\n",
    "    Liczba_drzwi float,\n",
    "    Skrzynia_biegow VARCHAR,\n",
    "    Wersja VARCHAR,\n",
    "    Generacja VARCHAR,\n",
    "    Segment VARCHAR,\n",
    "    Kolor VARCHAR,\n",
    "    Przebieg float,\n",
    "    Rok_produkcji float,\n",
    "    Naped VARCHAR,\n",
    "    Spalanie_W_Miescie float,\n",
    "    Typ_nadwozia VARCHAR,\n",
    "    Emisja_CO2 float,\n",
    "    Liczba_miejsc float,\n",
    "    Rodzaj_koloru VARCHAR,\n",
    "    Kraj_pochodzenia VARCHAR,\n",
    "    Pierwszy_wlasciciel VARCHAR,\n",
    "    Bezwypadkowy VARCHAR,\n",
    "    Serwisowany_w_ASO VARCHAR,\n",
    "    Stan VARCHAR,\n",
    "    VAT_marza VARCHAR,\n",
    "    Pierwsza_rejestracja VARCHAR,\n",
    "    Numer_rejestracyjny_pojazdu VARCHAR,\n",
    "    Zarejestrowany_w_Polsce VARCHAR,\n",
    "    Filtr_czastek_stalych VARCHAR,\n",
    "    Tuning VARCHAR,\n",
    "    Mozliwosc_finansowania VARCHAR,\n",
    "    Uszkodzony VARCHAR,\n",
    "    Faktura_VAT VARCHAR,\n",
    "    Spalanie_W_Cyklu_Mieszanym float,\n",
    "    Spalanie_Poza_Miastem float,\n",
    "    Okres_gwarancji_producenta VARCHAR,\n",
    "    Leasing VARCHAR,\n",
    "    Miesieczna_rata VARCHAR,\n",
    "    lub_do_przebieg_km VARCHAR,\n",
    "    Gwarancja_dealerska_w_cenie VARCHAR,\n",
    "    Homologacja_ciezarowa VARCHAR,\n",
    "    Oplata_poczatkowa VARCHAR,\n",
    "    Liczba_pozostalych_rat VARCHAR,\n",
    "    Wartosc_wykupu VARCHAR,\n",
    "    Kierownica_po_prawej_Anglik VARCHAR,\n",
    "    Zarejestrowany_jako_zabytek VARCHAR,\n",
    "    PRIMARY KEY (ID)\n",
    "    )'''\n",
    "cur.execute(createTableCommand)\n",
    "psql.commit()"
   ]
  },
  {
   "cell_type": "code",
   "execution_count": null,
   "id": "25b6ed71",
   "metadata": {},
   "outputs": [],
   "source": [
    "print(table_cars.columns)"
   ]
  },
  {
   "cell_type": "code",
   "execution_count": null,
   "id": "1d677160",
   "metadata": {},
   "outputs": [],
   "source": [
    "a = 0\n",
    "for row in table_cars.itertuples(index=False):\n",
    "    full=\"\"\n",
    "    full_fit=\"INSERT INTO \" + table_name + \"(\"\n",
    "    for (column, insert) in zip(row, insert_table):\n",
    "        if str(column) =='nan':\n",
    "            continue\n",
    "        column = str(column)\n",
    "        column = column.replace(\"'\", \"''\")\n",
    "        full +=\"'\"+column+\"'\"+\", \"\n",
    "        full_fit += insert + ', '  \n",
    "        \n",
    "    full=full[:-2]\n",
    "    full_fit=full_fit[:-2]\n",
    "    full_fit=full_fit+')'\n",
    "    Value_data='VALUES ('+full+') ON CONFLICT DO NOTHING;'\n",
    "    insertDataCommand = full_fit+\"\\r\\n\"+Value_data\n",
    "    \n",
    "    cur.execute(insertDataCommand)\n",
    "psql.commit()\n",
    "print(\"Finish\")"
   ]
  },
  {
   "cell_type": "code",
   "execution_count": null,
   "id": "b5f8ebed",
   "metadata": {},
   "outputs": [],
   "source": [
    "insertDataCommand"
   ]
  },
  {
   "cell_type": "code",
   "execution_count": null,
   "id": "314ad019",
   "metadata": {},
   "outputs": [],
   "source": []
  }
 ],
 "metadata": {
  "kernelspec": {
   "display_name": "Python 3",
   "language": "python",
   "name": "python3"
  },
  "language_info": {
   "codemirror_mode": {
    "name": "ipython",
    "version": 3
   },
   "file_extension": ".py",
   "mimetype": "text/x-python",
   "name": "python",
   "nbconvert_exporter": "python",
   "pygments_lexer": "ipython3",
   "version": "3.9.2"
  }
 },
 "nbformat": 4,
 "nbformat_minor": 5
}
