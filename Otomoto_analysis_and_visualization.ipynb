{
 "cells": [
  {
   "cell_type": "code",
   "execution_count": 1,
   "id": "af60503d",
   "metadata": {},
   "outputs": [
    {
     "name": "stdout",
     "output_type": "stream",
     "text": [
      "Requirement already satisfied: ipython-sql in /opt/conda/lib/python3.9/site-packages (0.4.0)\n",
      "Requirement already satisfied: ipython>=1.0 in /opt/conda/lib/python3.9/site-packages (from ipython-sql) (7.23.1)\n",
      "Requirement already satisfied: prettytable<1 in /opt/conda/lib/python3.9/site-packages (from ipython-sql) (0.7.2)\n",
      "Requirement already satisfied: sqlalchemy>=0.6.7 in /opt/conda/lib/python3.9/site-packages (from ipython-sql) (1.3.9)\n",
      "Requirement already satisfied: sqlparse in /opt/conda/lib/python3.9/site-packages (from ipython-sql) (0.4.1)\n",
      "Requirement already satisfied: ipython-genutils>=0.1.0 in /opt/conda/lib/python3.9/site-packages (from ipython-sql) (0.2.0)\n",
      "Requirement already satisfied: six in /opt/conda/lib/python3.9/site-packages (from ipython-sql) (1.16.0)\n",
      "Requirement already satisfied: pickleshare in /opt/conda/lib/python3.9/site-packages (from ipython>=1.0->ipython-sql) (0.7.5)\n",
      "Requirement already satisfied: backcall in /opt/conda/lib/python3.9/site-packages (from ipython>=1.0->ipython-sql) (0.2.0)\n",
      "Requirement already satisfied: decorator in /opt/conda/lib/python3.9/site-packages (from ipython>=1.0->ipython-sql) (5.0.9)\n",
      "Requirement already satisfied: prompt-toolkit!=3.0.0,!=3.0.1,<3.1.0,>=2.0.0 in /opt/conda/lib/python3.9/site-packages (from ipython>=1.0->ipython-sql) (3.0.18)\n",
      "Requirement already satisfied: matplotlib-inline in /opt/conda/lib/python3.9/site-packages (from ipython>=1.0->ipython-sql) (0.1.2)\n",
      "Requirement already satisfied: setuptools>=18.5 in /opt/conda/lib/python3.9/site-packages (from ipython>=1.0->ipython-sql) (49.6.0.post20210108)\n",
      "Requirement already satisfied: jedi>=0.16 in /opt/conda/lib/python3.9/site-packages (from ipython>=1.0->ipython-sql) (0.18.0)\n",
      "Requirement already satisfied: pexpect>4.3 in /opt/conda/lib/python3.9/site-packages (from ipython>=1.0->ipython-sql) (4.8.0)\n",
      "Requirement already satisfied: traitlets>=4.2 in /opt/conda/lib/python3.9/site-packages (from ipython>=1.0->ipython-sql) (5.0.5)\n",
      "Requirement already satisfied: pygments in /opt/conda/lib/python3.9/site-packages (from ipython>=1.0->ipython-sql) (2.9.0)\n",
      "Requirement already satisfied: parso<0.9.0,>=0.8.0 in /opt/conda/lib/python3.9/site-packages (from jedi>=0.16->ipython>=1.0->ipython-sql) (0.8.2)\n",
      "Requirement already satisfied: ptyprocess>=0.5 in /opt/conda/lib/python3.9/site-packages (from pexpect>4.3->ipython>=1.0->ipython-sql) (0.7.0)\n",
      "Requirement already satisfied: wcwidth in /opt/conda/lib/python3.9/site-packages (from prompt-toolkit!=3.0.0,!=3.0.1,<3.1.0,>=2.0.0->ipython>=1.0->ipython-sql) (0.2.5)\n",
      "Requirement already satisfied: psycopg2-binary in /opt/conda/lib/python3.9/site-packages (2.9.1)\n",
      "Requirement already satisfied: pandas in /opt/conda/lib/python3.9/site-packages (1.2.4)\n",
      "Requirement already satisfied: python-dateutil>=2.7.3 in /opt/conda/lib/python3.9/site-packages (from pandas) (2.8.1)\n",
      "Requirement already satisfied: pytz>=2017.3 in /opt/conda/lib/python3.9/site-packages (from pandas) (2021.1)\n",
      "Requirement already satisfied: numpy>=1.16.5 in /opt/conda/lib/python3.9/site-packages (from pandas) (1.20.3)\n",
      "Requirement already satisfied: six>=1.5 in /opt/conda/lib/python3.9/site-packages (from python-dateutil>=2.7.3->pandas) (1.16.0)\n",
      "Requirement already satisfied: numpy in /opt/conda/lib/python3.9/site-packages (1.20.3)\n"
     ]
    }
   ],
   "source": [
    "!pip install ipython-sql\n",
    "!pip install psycopg2-binary\n",
    "!pip install pandas\n",
    "!pip install numpy"
   ]
  },
  {
   "cell_type": "code",
   "execution_count": 2,
   "id": "2b34eadf",
   "metadata": {},
   "outputs": [],
   "source": [
    "import numpy as np\n",
    "import pandas as pd\n",
    "import psycopg2\n",
    "import pandas.io.sql as sqlio\n",
    "import matplotlib.pyplot as plt\n",
    "import pylab as pl\n",
    "%matplotlib inline\n",
    "from IPython.display import clear_output"
   ]
  },
  {
   "cell_type": "code",
   "execution_count": 3,
   "id": "53e0b878",
   "metadata": {},
   "outputs": [],
   "source": [
    "psql = psycopg2.connect(host='192.168.10.163', port='5432', database='Otomoto', user='barto', password='biznes')"
   ]
  },
  {
   "cell_type": "code",
   "execution_count": 4,
   "id": "f9369c46",
   "metadata": {},
   "outputs": [
    {
     "data": {
      "text/plain": [
       "(2992, 51)"
      ]
     },
     "execution_count": 4,
     "metadata": {},
     "output_type": "execute_result"
    }
   ],
   "source": [
    "cur = psql.cursor()\n",
    "sql = \"select * from Otomoto;\"\n",
    "dat = sqlio.read_sql_query(sql, psql)\n",
    "conn = None\n",
    "dat.shape"
   ]
  },
  {
   "cell_type": "code",
   "execution_count": 5,
   "id": "e338f6f9",
   "metadata": {},
   "outputs": [
    {
     "data": {
      "text/html": [
       "<div>\n",
       "<style scoped>\n",
       "    .dataframe tbody tr th:only-of-type {\n",
       "        vertical-align: middle;\n",
       "    }\n",
       "\n",
       "    .dataframe tbody tr th {\n",
       "        vertical-align: top;\n",
       "    }\n",
       "\n",
       "    .dataframe thead th {\n",
       "        text-align: right;\n",
       "    }\n",
       "</style>\n",
       "<table border=\"1\" class=\"dataframe\">\n",
       "  <thead>\n",
       "    <tr style=\"text-align: right;\">\n",
       "      <th></th>\n",
       "      <th>id</th>\n",
       "      <th>cena</th>\n",
       "      <th>oferta_od</th>\n",
       "      <th>kategoria</th>\n",
       "      <th>marka_pojazdu</th>\n",
       "      <th>model_pojazdu</th>\n",
       "      <th>rodzaj_paliwa</th>\n",
       "      <th>moc</th>\n",
       "      <th>pojemnosc_skokowa</th>\n",
       "      <th>liczba_drzwi</th>\n",
       "      <th>...</th>\n",
       "      <th>miesieczna_rata</th>\n",
       "      <th>lub_do_przebieg_km</th>\n",
       "      <th>gwarancja_dealerska_w_cenie</th>\n",
       "      <th>homologacja_ciezarowa</th>\n",
       "      <th>oplata_poczatkowa</th>\n",
       "      <th>liczba_pozostalych_rat</th>\n",
       "      <th>wartosc_wykupu</th>\n",
       "      <th>kierownica_po_prawej_anglik</th>\n",
       "      <th>zarejestrowany_jako_zabytek</th>\n",
       "      <th>link</th>\n",
       "    </tr>\n",
       "  </thead>\n",
       "  <tbody>\n",
       "    <tr>\n",
       "      <th>0</th>\n",
       "      <td>6.088515e+09</td>\n",
       "      <td>61900.0</td>\n",
       "      <td>Firmy</td>\n",
       "      <td>Osobowe</td>\n",
       "      <td>Abarth</td>\n",
       "      <td>595</td>\n",
       "      <td>Benzyna</td>\n",
       "      <td>145.0</td>\n",
       "      <td>1368.0</td>\n",
       "      <td>3.0</td>\n",
       "      <td>...</td>\n",
       "      <td>None</td>\n",
       "      <td>None</td>\n",
       "      <td>None</td>\n",
       "      <td>None</td>\n",
       "      <td>None</td>\n",
       "      <td>None</td>\n",
       "      <td>None</td>\n",
       "      <td>None</td>\n",
       "      <td>None</td>\n",
       "      <td>https://www.otomoto.pl/oferta/abarth-595-darmo...</td>\n",
       "    </tr>\n",
       "    <tr>\n",
       "      <th>1</th>\n",
       "      <td>6.088033e+09</td>\n",
       "      <td>71900.0</td>\n",
       "      <td>Firmy</td>\n",
       "      <td>Osobowe</td>\n",
       "      <td>Abarth</td>\n",
       "      <td>595</td>\n",
       "      <td>Benzyna</td>\n",
       "      <td>145.0</td>\n",
       "      <td>1368.0</td>\n",
       "      <td>3.0</td>\n",
       "      <td>...</td>\n",
       "      <td>None</td>\n",
       "      <td>None</td>\n",
       "      <td>None</td>\n",
       "      <td>None</td>\n",
       "      <td>None</td>\n",
       "      <td>None</td>\n",
       "      <td>None</td>\n",
       "      <td>None</td>\n",
       "      <td>None</td>\n",
       "      <td>https://www.otomoto.pl/oferta/abarth-595-darmo...</td>\n",
       "    </tr>\n",
       "    <tr>\n",
       "      <th>2</th>\n",
       "      <td>6.088507e+09</td>\n",
       "      <td>67900.0</td>\n",
       "      <td>Firmy</td>\n",
       "      <td>Osobowe</td>\n",
       "      <td>Abarth</td>\n",
       "      <td>595</td>\n",
       "      <td>Benzyna</td>\n",
       "      <td>145.0</td>\n",
       "      <td>1368.0</td>\n",
       "      <td>3.0</td>\n",
       "      <td>...</td>\n",
       "      <td>None</td>\n",
       "      <td>None</td>\n",
       "      <td>None</td>\n",
       "      <td>None</td>\n",
       "      <td>None</td>\n",
       "      <td>None</td>\n",
       "      <td>None</td>\n",
       "      <td>None</td>\n",
       "      <td>None</td>\n",
       "      <td>https://www.otomoto.pl/oferta/abarth-595-darmo...</td>\n",
       "    </tr>\n",
       "    <tr>\n",
       "      <th>3</th>\n",
       "      <td>6.088316e+09</td>\n",
       "      <td>52800.0</td>\n",
       "      <td>Firmy</td>\n",
       "      <td>Osobowe</td>\n",
       "      <td>Abarth</td>\n",
       "      <td>595</td>\n",
       "      <td>Benzyna</td>\n",
       "      <td>145.0</td>\n",
       "      <td>1368.0</td>\n",
       "      <td>3.0</td>\n",
       "      <td>...</td>\n",
       "      <td>None</td>\n",
       "      <td>None</td>\n",
       "      <td>None</td>\n",
       "      <td>None</td>\n",
       "      <td>None</td>\n",
       "      <td>None</td>\n",
       "      <td>None</td>\n",
       "      <td>None</td>\n",
       "      <td>None</td>\n",
       "      <td>https://www.otomoto.pl/oferta/abarth-595-abart...</td>\n",
       "    </tr>\n",
       "    <tr>\n",
       "      <th>4</th>\n",
       "      <td>6.087417e+09</td>\n",
       "      <td>66900.0</td>\n",
       "      <td>Osoby prywatnej</td>\n",
       "      <td>Osobowe</td>\n",
       "      <td>Abarth</td>\n",
       "      <td>595</td>\n",
       "      <td>Benzyna</td>\n",
       "      <td>270.0</td>\n",
       "      <td>1400.0</td>\n",
       "      <td>3.0</td>\n",
       "      <td>...</td>\n",
       "      <td>None</td>\n",
       "      <td>None</td>\n",
       "      <td>None</td>\n",
       "      <td>None</td>\n",
       "      <td>None</td>\n",
       "      <td>None</td>\n",
       "      <td>None</td>\n",
       "      <td>None</td>\n",
       "      <td>None</td>\n",
       "      <td>https://www.otomoto.pl/oferta/abarth-595-abart...</td>\n",
       "    </tr>\n",
       "  </tbody>\n",
       "</table>\n",
       "<p>5 rows × 51 columns</p>\n",
       "</div>"
      ],
      "text/plain": [
       "             id     cena        oferta_od kategoria marka_pojazdu  \\\n",
       "0  6.088515e+09  61900.0            Firmy   Osobowe        Abarth   \n",
       "1  6.088033e+09  71900.0            Firmy   Osobowe        Abarth   \n",
       "2  6.088507e+09  67900.0            Firmy   Osobowe        Abarth   \n",
       "3  6.088316e+09  52800.0            Firmy   Osobowe        Abarth   \n",
       "4  6.087417e+09  66900.0  Osoby prywatnej   Osobowe        Abarth   \n",
       "\n",
       "  model_pojazdu rodzaj_paliwa    moc  pojemnosc_skokowa  liczba_drzwi  ...  \\\n",
       "0           595       Benzyna  145.0             1368.0           3.0  ...   \n",
       "1           595       Benzyna  145.0             1368.0           3.0  ...   \n",
       "2           595       Benzyna  145.0             1368.0           3.0  ...   \n",
       "3           595       Benzyna  145.0             1368.0           3.0  ...   \n",
       "4           595       Benzyna  270.0             1400.0           3.0  ...   \n",
       "\n",
       "  miesieczna_rata lub_do_przebieg_km gwarancja_dealerska_w_cenie  \\\n",
       "0            None               None                        None   \n",
       "1            None               None                        None   \n",
       "2            None               None                        None   \n",
       "3            None               None                        None   \n",
       "4            None               None                        None   \n",
       "\n",
       "  homologacja_ciezarowa oplata_poczatkowa  liczba_pozostalych_rat  \\\n",
       "0                  None              None                    None   \n",
       "1                  None              None                    None   \n",
       "2                  None              None                    None   \n",
       "3                  None              None                    None   \n",
       "4                  None              None                    None   \n",
       "\n",
       "   wartosc_wykupu kierownica_po_prawej_anglik  zarejestrowany_jako_zabytek  \\\n",
       "0            None                        None                         None   \n",
       "1            None                        None                         None   \n",
       "2            None                        None                         None   \n",
       "3            None                        None                         None   \n",
       "4            None                        None                         None   \n",
       "\n",
       "                                                link  \n",
       "0  https://www.otomoto.pl/oferta/abarth-595-darmo...  \n",
       "1  https://www.otomoto.pl/oferta/abarth-595-darmo...  \n",
       "2  https://www.otomoto.pl/oferta/abarth-595-darmo...  \n",
       "3  https://www.otomoto.pl/oferta/abarth-595-abart...  \n",
       "4  https://www.otomoto.pl/oferta/abarth-595-abart...  \n",
       "\n",
       "[5 rows x 51 columns]"
      ]
     },
     "execution_count": 5,
     "metadata": {},
     "output_type": "execute_result"
    }
   ],
   "source": [
    "dat.head()\n"
   ]
  },
  {
   "cell_type": "code",
   "execution_count": 6,
   "id": "2608eed3",
   "metadata": {},
   "outputs": [
    {
     "name": "stdout",
     "output_type": "stream",
     "text": [
      "<class 'pandas.core.frame.DataFrame'>\n"
     ]
    }
   ],
   "source": [
    "print(type(dat))"
   ]
  },
  {
   "cell_type": "code",
   "execution_count": 11,
   "id": "2568c161",
   "metadata": {},
   "outputs": [
    {
     "name": "stdout",
     "output_type": "stream",
     "text": [
      "BMW:  64\n",
      "Ferrari:  55\n",
      "Lamborghini:  24\n"
     ]
    }
   ],
   "source": [
    "BMW = 0\n",
    "for i in dat['marka_pojazdu']:\n",
    "    if 'BMW' in i:\n",
    "        BMW += 1\n",
    "print('BMW: ',BMW)\n",
    "\n",
    "Ferrari = 0\n",
    "for i in dat['marka_pojazdu']:\n",
    "    if 'Ferrari' in i:\n",
    "        Ferrari += 1\n",
    "print('Ferrari: ',Ferrari)\n",
    "\n",
    "Lamborghini = 0\n",
    "for i in dat['marka_pojazdu']:\n",
    "    if 'Lamborghini' in i:\n",
    "        Lamborghini += 1\n",
    "print('Lamborghini: ',Lamborghini)"
   ]
  },
  {
   "cell_type": "code",
   "execution_count": 14,
   "id": "984f6f07",
   "metadata": {},
   "outputs": [],
   "source": [
    "table = {'BMW': [BMW], 'Ferrari': [Ferrari],'Lamborghini': [Lamborghini]}\n",
    "df_table = pd.DataFrame(table)"
   ]
  },
  {
   "cell_type": "code",
   "execution_count": 15,
   "id": "5ce95818",
   "metadata": {},
   "outputs": [
    {
     "data": {
      "text/html": [
       "<div>\n",
       "<style scoped>\n",
       "    .dataframe tbody tr th:only-of-type {\n",
       "        vertical-align: middle;\n",
       "    }\n",
       "\n",
       "    .dataframe tbody tr th {\n",
       "        vertical-align: top;\n",
       "    }\n",
       "\n",
       "    .dataframe thead th {\n",
       "        text-align: right;\n",
       "    }\n",
       "</style>\n",
       "<table border=\"1\" class=\"dataframe\">\n",
       "  <thead>\n",
       "    <tr style=\"text-align: right;\">\n",
       "      <th></th>\n",
       "      <th>BMW</th>\n",
       "      <th>Ferrari</th>\n",
       "      <th>Lamborghini</th>\n",
       "    </tr>\n",
       "  </thead>\n",
       "  <tbody>\n",
       "    <tr>\n",
       "      <th>0</th>\n",
       "      <td>64</td>\n",
       "      <td>55</td>\n",
       "      <td>24</td>\n",
       "    </tr>\n",
       "  </tbody>\n",
       "</table>\n",
       "</div>"
      ],
      "text/plain": [
       "   BMW  Ferrari  Lamborghini\n",
       "0   64       55           24"
      ]
     },
     "execution_count": 15,
     "metadata": {},
     "output_type": "execute_result"
    }
   ],
   "source": [
    "df_table.head()"
   ]
  },
  {
   "cell_type": "code",
   "execution_count": 16,
   "id": "a93a366a",
   "metadata": {},
   "outputs": [
    {
     "data": {
      "text/html": [
       "<div>\n",
       "<style scoped>\n",
       "    .dataframe tbody tr th:only-of-type {\n",
       "        vertical-align: middle;\n",
       "    }\n",
       "\n",
       "    .dataframe tbody tr th {\n",
       "        vertical-align: top;\n",
       "    }\n",
       "\n",
       "    .dataframe thead th {\n",
       "        text-align: right;\n",
       "    }\n",
       "</style>\n",
       "<table border=\"1\" class=\"dataframe\">\n",
       "  <thead>\n",
       "    <tr style=\"text-align: right;\">\n",
       "      <th></th>\n",
       "      <th>0</th>\n",
       "    </tr>\n",
       "  </thead>\n",
       "  <tbody>\n",
       "    <tr>\n",
       "      <th>BMW</th>\n",
       "      <td>64</td>\n",
       "    </tr>\n",
       "    <tr>\n",
       "      <th>Ferrari</th>\n",
       "      <td>55</td>\n",
       "    </tr>\n",
       "    <tr>\n",
       "      <th>Lamborghini</th>\n",
       "      <td>24</td>\n",
       "    </tr>\n",
       "  </tbody>\n",
       "</table>\n",
       "</div>"
      ],
      "text/plain": [
       "              0\n",
       "BMW          64\n",
       "Ferrari      55\n",
       "Lamborghini  24"
      ]
     },
     "execution_count": 16,
     "metadata": {},
     "output_type": "execute_result"
    }
   ],
   "source": [
    "df_table.transpose()"
   ]
  },
  {
   "cell_type": "code",
   "execution_count": 19,
   "id": "5b4e0fe5",
   "metadata": {},
   "outputs": [
    {
     "ename": "NameError",
     "evalue": "name 'height' is not defined",
     "output_type": "error",
     "traceback": [
      "\u001b[0;31m\u001b[0m",
      "\u001b[0;31mNameError\u001b[0mTraceback (most recent call last)",
      "\u001b[0;32m<ipython-input-19-ffaed7972ed0>\u001b[0m in \u001b[0;36m<module>\u001b[0;34m\u001b[0m\n\u001b[1;32m      1\u001b[0m \u001b[0;31m# initialize the waffle chart as an empty matrix\u001b[0m\u001b[0;34m\u001b[0m\u001b[0;34m\u001b[0m\u001b[0;34m\u001b[0m\u001b[0m\n\u001b[0;32m----> 2\u001b[0;31m \u001b[0mwaffle_chart\u001b[0m \u001b[0;34m=\u001b[0m \u001b[0mnp\u001b[0m\u001b[0;34m.\u001b[0m\u001b[0mzeros\u001b[0m\u001b[0;34m(\u001b[0m\u001b[0;34m(\u001b[0m\u001b[0mheight\u001b[0m\u001b[0;34m,\u001b[0m \u001b[0mwidth\u001b[0m\u001b[0;34m)\u001b[0m\u001b[0;34m,\u001b[0m \u001b[0mdtype\u001b[0m \u001b[0;34m=\u001b[0m \u001b[0mnp\u001b[0m\u001b[0;34m.\u001b[0m\u001b[0muint\u001b[0m\u001b[0;34m)\u001b[0m\u001b[0;34m\u001b[0m\u001b[0;34m\u001b[0m\u001b[0m\n\u001b[0m\u001b[1;32m      3\u001b[0m \u001b[0;34m\u001b[0m\u001b[0m\n\u001b[1;32m      4\u001b[0m \u001b[0;31m# define indices to loop through waffle chart\u001b[0m\u001b[0;34m\u001b[0m\u001b[0;34m\u001b[0m\u001b[0;34m\u001b[0m\u001b[0m\n\u001b[1;32m      5\u001b[0m \u001b[0mcategory_index\u001b[0m \u001b[0;34m=\u001b[0m \u001b[0;36m0\u001b[0m\u001b[0;34m\u001b[0m\u001b[0;34m\u001b[0m\u001b[0m\n",
      "\u001b[0;31mNameError\u001b[0m: name 'height' is not defined"
     ]
    }
   ],
   "source": [
    "# initialize the waffle chart as an empty matrix\n",
    "waffle_chart = np.zeros((height, width), dtype = np.uint)\n",
    "\n",
    "# define indices to loop through waffle chart\n",
    "category_index = 0\n",
    "tile_index = 0\n",
    "\n",
    "# populate the waffle chart\n",
    "for col in range(width):\n",
    "    for row in range(height):\n",
    "        tile_index += 1\n",
    "\n",
    "        # if the number of tiles populated for the current category is equal to its corresponding allocated tiles...\n",
    "        if tile_index > sum(tiles_per_category[0:category_index]):\n",
    "            # ...proceed to the next category\n",
    "            category_index += 1       \n",
    "            \n",
    "        # set the class value to an integer, which increases with class\n",
    "        waffle_chart[row, col] = category_index\n",
    "        \n",
    "print ('Waffle chart populated!')"
   ]
  },
  {
   "cell_type": "code",
   "execution_count": null,
   "id": "1f07ad14",
   "metadata": {},
   "outputs": [],
   "source": [
    "\n"
   ]
  },
  {
   "cell_type": "code",
   "execution_count": null,
   "id": "17c0e7fb",
   "metadata": {},
   "outputs": [],
   "source": []
  }
 ],
 "metadata": {
  "kernelspec": {
   "display_name": "Python 3",
   "language": "python",
   "name": "python3"
  },
  "language_info": {
   "codemirror_mode": {
    "name": "ipython",
    "version": 3
   },
   "file_extension": ".py",
   "mimetype": "text/x-python",
   "name": "python",
   "nbconvert_exporter": "python",
   "pygments_lexer": "ipython3",
   "version": "3.9.2"
  }
 },
 "nbformat": 4,
 "nbformat_minor": 5
}
