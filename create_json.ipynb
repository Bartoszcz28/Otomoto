{
 "cells": [
  {
   "cell_type": "code",
   "execution_count": 1,
   "id": "cbeb1001",
   "metadata": {},
   "outputs": [],
   "source": [
    "import json"
   ]
  },
  {
   "cell_type": "code",
   "execution_count": 2,
   "id": "2d49f458",
   "metadata": {},
   "outputs": [],
   "source": [
    "x={\n",
    "    \"car_brand\" : [\n",
    "    \"Abarth\",\n",
    "    \"Alfa Romeo\",\n",
    "    \"Aston Martin\",\n",
    "    \"Audi\",\n",
    "    \"Bentley\",\n",
    "    \"BMW\",\n",
    "    \"Bugatti\",\n",
    "    \"Cadillac\",\n",
    "    \"Chevrolet\",\n",
    "    \"Chrysler\",\n",
    "    \"Citroën\",\n",
    "    \"Dacia\",\n",
    "    \"Daewoo\",\n",
    "    \"Daihatsu\",\n",
    "    \"Dodge\",\n",
    "    \"Donkervoort\",\n",
    "    \"DS\",\n",
    "    \"Ferrari\",\n",
    "    \"Fiat\",\n",
    "    \"Fisker\",\n",
    "    \"Ford\",\n",
    "    \"Honda\",\n",
    "    \"Hummer\",\n",
    "    \"Hyundai\",\n",
    "    \"Infiniti\",\n",
    "    \"Iveco\",\n",
    "    \"Jaguar\",\n",
    "    \"Jeep\",\n",
    "    \"Kia\",\n",
    "    \"KTM\",\n",
    "    \"Lada\",\n",
    "    \"Lamborghini\",\n",
    "    \"Lancia\",\n",
    "    \"Land Rover\",\n",
    "    \"Landwind\",\n",
    "    \"Lexus\",\n",
    "    \"Lotus\",\n",
    "    \"Maserati\",\n",
    "    \"Maybach\",\n",
    "    \"Mazda\",\n",
    "    \"McLaren\",\n",
    "    \"Mercedes-Benz\",\n",
    "    \"MG\",\n",
    "    \"Mini\",\n",
    "    \"Mitsubishi\",\n",
    "    \"Morgan\",\n",
    "    \"Nissan\",\n",
    "    \"Opel\",\n",
    "    \"Peugeot\",\n",
    "    \"Porsche\",\n",
    "    \"Renault\",\n",
    "    \"Rolls-Royce\",\n",
    "    \"Rover\",\n",
    "    \"Saab\",\n",
    "    \"Seat\",\n",
    "    \"Skoda\",\n",
    "    \"Smart\",\n",
    "    \"SsangYong\",\n",
    "    \"Subaru\",\n",
    "    \"Suzuki\",\n",
    "    \"Tesla\",\n",
    "    \"Toyota\",\n",
    "    \"Volkswagen\",\n",
    "    \"Volvo\"\n",
    "    ]\n",
    "    }"
   ]
  },
  {
   "cell_type": "code",
   "execution_count": 3,
   "id": "26f45ca6",
   "metadata": {},
   "outputs": [],
   "source": [
    "jsons = json.dumps(x, indent=2)"
   ]
  },
  {
   "cell_type": "code",
   "execution_count": 4,
   "id": "7af03f93",
   "metadata": {},
   "outputs": [],
   "source": [
    "with open('Data_to_Otomoto.json', 'w') as file:\n",
    "    file.write(jsons)"
   ]
  }
 ],
 "metadata": {
  "kernelspec": {
   "display_name": "Python 3",
   "language": "python",
   "name": "python3"
  },
  "language_info": {
   "codemirror_mode": {
    "name": "ipython",
    "version": 3
   },
   "file_extension": ".py",
   "mimetype": "text/x-python",
   "name": "python",
   "nbconvert_exporter": "python",
   "pygments_lexer": "ipython3",
   "version": "3.9.2"
  }
 },
 "nbformat": 4,
 "nbformat_minor": 5
}
